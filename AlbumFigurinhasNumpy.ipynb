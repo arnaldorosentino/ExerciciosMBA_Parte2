{
  "nbformat": 4,
  "nbformat_minor": 0,
  "metadata": {
    "colab": {
      "name": "AlbumFigurinhasNumpy.ipynb",
      "provenance": [],
      "authorship_tag": "ABX9TyO3cSKp1oCJW16Jpouug9ws",
      "include_colab_link": true
    },
    "kernelspec": {
      "name": "python3",
      "display_name": "Python 3"
    },
    "language_info": {
      "name": "python"
    }
  },
  "cells": [
    {
      "cell_type": "markdown",
      "metadata": {
        "id": "view-in-github",
        "colab_type": "text"
      },
      "source": [
        "<a href=\"https://colab.research.google.com/github/arnaldorosentino/ExerciciosMBA_Parte2/blob/main/AlbumFigurinhasNumpy.ipynb\" target=\"_parent\"><img src=\"https://colab.research.google.com/assets/colab-badge.svg\" alt=\"Open In Colab\"/></a>"
      ]
    },
    {
      "cell_type": "code",
      "execution_count": 8,
      "metadata": {
        "id": "OJk6QFLtbRn3"
      },
      "outputs": [],
      "source": [
        "# Atividade 1\n",
        "\n",
        "import random\n",
        "import numpy as np\n",
        "\n",
        "# criando um album de n posições iguais a zero, ou seja, album vazio sem qualquer figurinha colada\n",
        "n = 251\n",
        "preco_album = 10\n",
        "preco_pacote = 4\n",
        "\n",
        "\n",
        "def SimularCompletarAlbum():\n",
        "  album = np.zeros(n, dtype = int)\n",
        "  pacotes = 0\n",
        "\n",
        "  while True:\n",
        "    # comprei um pacoinho de figurinhas\n",
        "    pacotinho = random.sample(range(n),4)\n",
        "    pacotes += 1\n",
        "    \n",
        "    # Colar as figurinhas no álbum\n",
        "    for figurinha in pacotinho:\n",
        "      album[figurinha] += 1\n",
        "    \n",
        "    # Verificação de quem já foi preenchida\n",
        "    # preenchidas = []\n",
        "    # for figurinha in album:\n",
        "    #  preenchidas.append(figurinha > 0)\n",
        "    \n",
        "    # if all(preenchidas):\n",
        "    if all(album > 0):\n",
        "      break\n",
        "\n",
        "\n",
        "  return pacotes"
      ]
    },
    {
      "cell_type": "code",
      "source": [
        "reps = 1000\n",
        "resultados = []\n",
        "for i in range(reps):\n",
        "  resultados.append(SimularCompletarAlbum())\n",
        "  if (i+1) % 100 == 0:\n",
        "    print(f'Simulação {i+1}/{reps} completas')"
      ],
      "metadata": {
        "colab": {
          "base_uri": "https://localhost:8080/"
        },
        "id": "ete5bNW6ehFK",
        "outputId": "a439549f-0738-4099-c200-9b3a32b7e6fc"
      },
      "execution_count": 9,
      "outputs": [
        {
          "output_type": "stream",
          "name": "stdout",
          "text": [
            "Simulação 100/1000 completas\n",
            "Simulação 200/1000 completas\n",
            "Simulação 300/1000 completas\n",
            "Simulação 400/1000 completas\n",
            "Simulação 500/1000 completas\n",
            "Simulação 600/1000 completas\n",
            "Simulação 700/1000 completas\n",
            "Simulação 800/1000 completas\n",
            "Simulação 900/1000 completas\n",
            "Simulação 1000/1000 completas\n"
          ]
        }
      ]
    },
    {
      "cell_type": "code",
      "source": [
        "# numero de pacotes necessários em média\n",
        "#pacotes_medio = sum(resultados)/len(resultados)\n",
        "pacotes_medio = np.mean(resultados)\n",
        "\n",
        "# numero de pacotes necessários em média\n",
        "custo_medio = preco_album + preco_pacote*pacotes_medio\n",
        "print('Custo Médio de R$', round(custo_medio,2))"
      ],
      "metadata": {
        "colab": {
          "base_uri": "https://localhost:8080/"
        },
        "id": "B8_7nCVxesUZ",
        "outputId": "c0c178bd-19a9-4b25-f808-5afac4003722"
      },
      "execution_count": 10,
      "outputs": [
        {
          "output_type": "stream",
          "name": "stdout",
          "text": [
            "Custo Médio de R$ 1544.57\n"
          ]
        }
      ]
    }
  ]
}