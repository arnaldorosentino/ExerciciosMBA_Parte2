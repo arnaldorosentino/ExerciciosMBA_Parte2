{
 "cells": [
  {
   "cell_type": "markdown",
   "metadata": {
    "colab_type": "text",
    "id": "view-in-github"
   },
   "source": [
    "<a href=\"https://colab.research.google.com/github/arnaldorosentino/ExerciciosMBA_Parte2/blob/main/IntroPandas.ipynb\" target=\"_parent\"><img src=\"https://colab.research.google.com/assets/colab-badge.svg\" alt=\"Open In Colab\"/></a>"
   ]
  },
  {
   "cell_type": "markdown",
   "metadata": {
    "id": "BuxCS5NXgYQu"
   },
   "source": [
    "# Biblioteca Pandas\n",
    "\n",
    "Tratamento e manipulação de dados em Python\n",
    "\n",
    "https://pandas.pydata.org/pandas-docs/stable/"
   ]
  },
  {
   "cell_type": "code",
   "execution_count": 1,
   "metadata": {
    "id": "CnT2Gv-egpZK"
   },
   "outputs": [],
   "source": [
    "import numpy as np\n"
   ]
  },
  {
   "cell_type": "code",
   "execution_count": 2,
   "metadata": {
    "colab": {
     "base_uri": "https://localhost:8080/"
    },
    "id": "W-FR2VOOg-Ue",
    "outputId": "9c430d28-a0e0-41d0-845b-1f49ee855f9b"
   },
   "outputs": [
    {
     "data": {
      "text/plain": [
       "array([3.77128175, 5.17546406, 7.631691  , 2.80068502, 3.00769464])"
      ]
     },
     "execution_count": 2,
     "metadata": {},
     "output_type": "execute_result"
    }
   ],
   "source": [
    "# Gerando 5 valores aleatórios entre 0 e 10 seguindo uma distribuição uniforme\n",
    "x = np.random.uniform(0, 10, 5)\n",
    "x"
   ]
  },
  {
   "cell_type": "code",
   "execution_count": 3,
   "metadata": {
    "colab": {
     "base_uri": "https://localhost:8080/"
    },
    "id": "9-hmwy1ChgTp",
    "outputId": "9cfe6dd7-7916-43aa-850c-e5168463435c"
   },
   "outputs": [
    {
     "data": {
      "text/plain": [
       "array([[1.77595718, 7.50413617, 0.70361926],\n",
       "       [2.98925248, 1.46005973, 3.90577808],\n",
       "       [4.27258248, 9.15825259, 0.11482229],\n",
       "       [0.31338029, 2.13835974, 9.94043896],\n",
       "       [2.13719038, 8.17711309, 5.67948366],\n",
       "       [7.86121321, 2.01614904, 5.0293216 ],\n",
       "       [4.09051027, 6.06180087, 8.90360103]])"
      ]
     },
     "execution_count": 3,
     "metadata": {},
     "output_type": "execute_result"
    }
   ],
   "source": [
    "x = np.random.uniform(0, 10, 21).reshape(7,3)\n",
    "x"
   ]
  },
  {
   "cell_type": "code",
   "execution_count": 4,
   "metadata": {
    "id": "T69nm07mhxFB"
   },
   "outputs": [],
   "source": [
    "import pandas as pd"
   ]
  },
  {
   "cell_type": "code",
   "execution_count": 5,
   "metadata": {
    "colab": {
     "base_uri": "https://localhost:8080/",
     "height": 269
    },
    "id": "cia6lvU4h0kS",
    "outputId": "7795c5fe-068d-4bed-b82c-d88c26e87661"
   },
   "outputs": [
    {
     "data": {
      "text/html": [
       "<div>\n",
       "<style scoped>\n",
       "    .dataframe tbody tr th:only-of-type {\n",
       "        vertical-align: middle;\n",
       "    }\n",
       "\n",
       "    .dataframe tbody tr th {\n",
       "        vertical-align: top;\n",
       "    }\n",
       "\n",
       "    .dataframe thead th {\n",
       "        text-align: right;\n",
       "    }\n",
       "</style>\n",
       "<table border=\"1\" class=\"dataframe\">\n",
       "  <thead>\n",
       "    <tr style=\"text-align: right;\">\n",
       "      <th></th>\n",
       "      <th>P1</th>\n",
       "      <th>P2</th>\n",
       "      <th>P3</th>\n",
       "    </tr>\n",
       "  </thead>\n",
       "  <tbody>\n",
       "    <tr>\n",
       "      <th>Arnaldo</th>\n",
       "      <td>1.8</td>\n",
       "      <td>7.5</td>\n",
       "      <td>0.7</td>\n",
       "    </tr>\n",
       "    <tr>\n",
       "      <th>Bruno</th>\n",
       "      <td>3.0</td>\n",
       "      <td>1.5</td>\n",
       "      <td>3.9</td>\n",
       "    </tr>\n",
       "    <tr>\n",
       "      <th>Carla</th>\n",
       "      <td>4.3</td>\n",
       "      <td>9.2</td>\n",
       "      <td>0.1</td>\n",
       "    </tr>\n",
       "    <tr>\n",
       "      <th>Daniel</th>\n",
       "      <td>0.3</td>\n",
       "      <td>2.1</td>\n",
       "      <td>9.9</td>\n",
       "    </tr>\n",
       "    <tr>\n",
       "      <th>Emily</th>\n",
       "      <td>2.1</td>\n",
       "      <td>8.2</td>\n",
       "      <td>5.7</td>\n",
       "    </tr>\n",
       "    <tr>\n",
       "      <th>Fabio</th>\n",
       "      <td>7.9</td>\n",
       "      <td>2.0</td>\n",
       "      <td>5.0</td>\n",
       "    </tr>\n",
       "    <tr>\n",
       "      <th>Glória</th>\n",
       "      <td>4.1</td>\n",
       "      <td>6.1</td>\n",
       "      <td>8.9</td>\n",
       "    </tr>\n",
       "  </tbody>\n",
       "</table>\n",
       "</div>"
      ],
      "text/plain": [
       "          P1   P2   P3\n",
       "Arnaldo  1.8  7.5  0.7\n",
       "Bruno    3.0  1.5  3.9\n",
       "Carla    4.3  9.2  0.1\n",
       "Daniel   0.3  2.1  9.9\n",
       "Emily    2.1  8.2  5.7\n",
       "Fabio    7.9  2.0  5.0\n",
       "Glória   4.1  6.1  8.9"
      ]
     },
     "execution_count": 5,
     "metadata": {},
     "output_type": "execute_result"
    }
   ],
   "source": [
    "# DataFrame -> Conjunto de Dados\n",
    "\n",
    "nomes = ['Arnaldo', 'Bruno', 'Carla', 'Daniel', 'Emily', 'Fabio','Glória']\n",
    "provas = ['P1', 'P2','P3']\n",
    "\n",
    "notas = pd.DataFrame(x, index = nomes, columns = provas).round(1)\n",
    "notas"
   ]
  },
  {
   "cell_type": "code",
   "execution_count": 6,
   "metadata": {
    "colab": {
     "base_uri": "https://localhost:8080/"
    },
    "id": "Zcf-kxU_jH6K",
    "outputId": "57e187bf-9d50-46b4-b5f8-c7a238872123"
   },
   "outputs": [
    {
     "data": {
      "text/plain": [
       "pandas.core.frame.DataFrame"
      ]
     },
     "execution_count": 6,
     "metadata": {},
     "output_type": "execute_result"
    }
   ],
   "source": [
    "type(notas)"
   ]
  },
  {
   "cell_type": "code",
   "execution_count": 7,
   "metadata": {
    "colab": {
     "base_uri": "https://localhost:8080/",
     "height": 143
    },
    "id": "TRRS0UkcjqIx",
    "outputId": "7db0ddf3-861d-41b1-a428-feef1bc12b31"
   },
   "outputs": [
    {
     "data": {
      "text/html": [
       "<div>\n",
       "<style scoped>\n",
       "    .dataframe tbody tr th:only-of-type {\n",
       "        vertical-align: middle;\n",
       "    }\n",
       "\n",
       "    .dataframe tbody tr th {\n",
       "        vertical-align: top;\n",
       "    }\n",
       "\n",
       "    .dataframe thead th {\n",
       "        text-align: right;\n",
       "    }\n",
       "</style>\n",
       "<table border=\"1\" class=\"dataframe\">\n",
       "  <thead>\n",
       "    <tr style=\"text-align: right;\">\n",
       "      <th></th>\n",
       "      <th>Arnaldo</th>\n",
       "      <th>Bruno</th>\n",
       "      <th>Carla</th>\n",
       "      <th>Daniel</th>\n",
       "      <th>Emily</th>\n",
       "      <th>Fabio</th>\n",
       "      <th>Glória</th>\n",
       "    </tr>\n",
       "  </thead>\n",
       "  <tbody>\n",
       "    <tr>\n",
       "      <th>P1</th>\n",
       "      <td>1.8</td>\n",
       "      <td>3.0</td>\n",
       "      <td>4.3</td>\n",
       "      <td>0.3</td>\n",
       "      <td>2.1</td>\n",
       "      <td>7.9</td>\n",
       "      <td>4.1</td>\n",
       "    </tr>\n",
       "    <tr>\n",
       "      <th>P2</th>\n",
       "      <td>7.5</td>\n",
       "      <td>1.5</td>\n",
       "      <td>9.2</td>\n",
       "      <td>2.1</td>\n",
       "      <td>8.2</td>\n",
       "      <td>2.0</td>\n",
       "      <td>6.1</td>\n",
       "    </tr>\n",
       "    <tr>\n",
       "      <th>P3</th>\n",
       "      <td>0.7</td>\n",
       "      <td>3.9</td>\n",
       "      <td>0.1</td>\n",
       "      <td>9.9</td>\n",
       "      <td>5.7</td>\n",
       "      <td>5.0</td>\n",
       "      <td>8.9</td>\n",
       "    </tr>\n",
       "  </tbody>\n",
       "</table>\n",
       "</div>"
      ],
      "text/plain": [
       "    Arnaldo  Bruno  Carla  Daniel  Emily  Fabio  Glória\n",
       "P1      1.8    3.0    4.3     0.3    2.1    7.9     4.1\n",
       "P2      7.5    1.5    9.2     2.1    8.2    2.0     6.1\n",
       "P3      0.7    3.9    0.1     9.9    5.7    5.0     8.9"
      ]
     },
     "execution_count": 7,
     "metadata": {},
     "output_type": "execute_result"
    }
   ],
   "source": [
    "notas.transpose()"
   ]
  },
  {
   "cell_type": "code",
   "execution_count": 8,
   "metadata": {
    "colab": {
     "base_uri": "https://localhost:8080/",
     "height": 143
    },
    "id": "yjCPNnnsjwM4",
    "outputId": "df20fb32-290f-4354-830d-fc9108c5d2b6"
   },
   "outputs": [
    {
     "data": {
      "text/html": [
       "<div>\n",
       "<style scoped>\n",
       "    .dataframe tbody tr th:only-of-type {\n",
       "        vertical-align: middle;\n",
       "    }\n",
       "\n",
       "    .dataframe tbody tr th {\n",
       "        vertical-align: top;\n",
       "    }\n",
       "\n",
       "    .dataframe thead th {\n",
       "        text-align: right;\n",
       "    }\n",
       "</style>\n",
       "<table border=\"1\" class=\"dataframe\">\n",
       "  <thead>\n",
       "    <tr style=\"text-align: right;\">\n",
       "      <th></th>\n",
       "      <th>Arnaldo</th>\n",
       "      <th>Bruno</th>\n",
       "      <th>Carla</th>\n",
       "      <th>Daniel</th>\n",
       "      <th>Emily</th>\n",
       "      <th>Fabio</th>\n",
       "      <th>Glória</th>\n",
       "    </tr>\n",
       "  </thead>\n",
       "  <tbody>\n",
       "    <tr>\n",
       "      <th>P1</th>\n",
       "      <td>1.8</td>\n",
       "      <td>3.0</td>\n",
       "      <td>4.3</td>\n",
       "      <td>0.3</td>\n",
       "      <td>2.1</td>\n",
       "      <td>7.9</td>\n",
       "      <td>4.1</td>\n",
       "    </tr>\n",
       "    <tr>\n",
       "      <th>P2</th>\n",
       "      <td>7.5</td>\n",
       "      <td>1.5</td>\n",
       "      <td>9.2</td>\n",
       "      <td>2.1</td>\n",
       "      <td>8.2</td>\n",
       "      <td>2.0</td>\n",
       "      <td>6.1</td>\n",
       "    </tr>\n",
       "    <tr>\n",
       "      <th>P3</th>\n",
       "      <td>0.7</td>\n",
       "      <td>3.9</td>\n",
       "      <td>0.1</td>\n",
       "      <td>9.9</td>\n",
       "      <td>5.7</td>\n",
       "      <td>5.0</td>\n",
       "      <td>8.9</td>\n",
       "    </tr>\n",
       "  </tbody>\n",
       "</table>\n",
       "</div>"
      ],
      "text/plain": [
       "    Arnaldo  Bruno  Carla  Daniel  Emily  Fabio  Glória\n",
       "P1      1.8    3.0    4.3     0.3    2.1    7.9     4.1\n",
       "P2      7.5    1.5    9.2     2.1    8.2    2.0     6.1\n",
       "P3      0.7    3.9    0.1     9.9    5.7    5.0     8.9"
      ]
     },
     "execution_count": 8,
     "metadata": {},
     "output_type": "execute_result"
    }
   ],
   "source": [
    "notas.T"
   ]
  },
  {
   "cell_type": "code",
   "execution_count": 9,
   "metadata": {
    "colab": {
     "base_uri": "https://localhost:8080/"
    },
    "id": "TiwQbApVj0CE",
    "outputId": "36b29075-536d-4f85-f5d8-a4eca6df2347"
   },
   "outputs": [
    {
     "name": "stdout",
     "output_type": "stream",
     "text": [
      "<class 'pandas.core.frame.DataFrame'>\n",
      "Index: 7 entries, Arnaldo to Glória\n",
      "Data columns (total 3 columns):\n",
      " #   Column  Non-Null Count  Dtype  \n",
      "---  ------  --------------  -----  \n",
      " 0   P1      7 non-null      float64\n",
      " 1   P2      7 non-null      float64\n",
      " 2   P3      7 non-null      float64\n",
      "dtypes: float64(3)\n",
      "memory usage: 524.0+ bytes\n"
     ]
    }
   ],
   "source": [
    "notas.info()"
   ]
  },
  {
   "cell_type": "code",
   "execution_count": 10,
   "metadata": {
    "colab": {
     "base_uri": "https://localhost:8080/",
     "height": 300
    },
    "id": "e5PdYzSYj-wR",
    "outputId": "5804f15e-9ac5-4649-8025-b9b7fc6243cb"
   },
   "outputs": [
    {
     "data": {
      "text/html": [
       "<div>\n",
       "<style scoped>\n",
       "    .dataframe tbody tr th:only-of-type {\n",
       "        vertical-align: middle;\n",
       "    }\n",
       "\n",
       "    .dataframe tbody tr th {\n",
       "        vertical-align: top;\n",
       "    }\n",
       "\n",
       "    .dataframe thead th {\n",
       "        text-align: right;\n",
       "    }\n",
       "</style>\n",
       "<table border=\"1\" class=\"dataframe\">\n",
       "  <thead>\n",
       "    <tr style=\"text-align: right;\">\n",
       "      <th></th>\n",
       "      <th>P1</th>\n",
       "      <th>P2</th>\n",
       "      <th>P3</th>\n",
       "    </tr>\n",
       "  </thead>\n",
       "  <tbody>\n",
       "    <tr>\n",
       "      <th>count</th>\n",
       "      <td>7.000000</td>\n",
       "      <td>7.000000</td>\n",
       "      <td>7.000000</td>\n",
       "    </tr>\n",
       "    <tr>\n",
       "      <th>mean</th>\n",
       "      <td>3.357143</td>\n",
       "      <td>5.228571</td>\n",
       "      <td>4.885714</td>\n",
       "    </tr>\n",
       "    <tr>\n",
       "      <th>std</th>\n",
       "      <td>2.434377</td>\n",
       "      <td>3.282131</td>\n",
       "      <td>3.726673</td>\n",
       "    </tr>\n",
       "    <tr>\n",
       "      <th>min</th>\n",
       "      <td>0.300000</td>\n",
       "      <td>1.500000</td>\n",
       "      <td>0.100000</td>\n",
       "    </tr>\n",
       "    <tr>\n",
       "      <th>25%</th>\n",
       "      <td>1.950000</td>\n",
       "      <td>2.050000</td>\n",
       "      <td>2.300000</td>\n",
       "    </tr>\n",
       "    <tr>\n",
       "      <th>50%</th>\n",
       "      <td>3.000000</td>\n",
       "      <td>6.100000</td>\n",
       "      <td>5.000000</td>\n",
       "    </tr>\n",
       "    <tr>\n",
       "      <th>75%</th>\n",
       "      <td>4.200000</td>\n",
       "      <td>7.850000</td>\n",
       "      <td>7.300000</td>\n",
       "    </tr>\n",
       "    <tr>\n",
       "      <th>max</th>\n",
       "      <td>7.900000</td>\n",
       "      <td>9.200000</td>\n",
       "      <td>9.900000</td>\n",
       "    </tr>\n",
       "  </tbody>\n",
       "</table>\n",
       "</div>"
      ],
      "text/plain": [
       "             P1        P2        P3\n",
       "count  7.000000  7.000000  7.000000\n",
       "mean   3.357143  5.228571  4.885714\n",
       "std    2.434377  3.282131  3.726673\n",
       "min    0.300000  1.500000  0.100000\n",
       "25%    1.950000  2.050000  2.300000\n",
       "50%    3.000000  6.100000  5.000000\n",
       "75%    4.200000  7.850000  7.300000\n",
       "max    7.900000  9.200000  9.900000"
      ]
     },
     "execution_count": 10,
     "metadata": {},
     "output_type": "execute_result"
    }
   ],
   "source": [
    "notas.describe()"
   ]
  },
  {
   "cell_type": "code",
   "execution_count": 11,
   "metadata": {
    "colab": {
     "base_uri": "https://localhost:8080/",
     "height": 143
    },
    "id": "NXZQvQbIlGbY",
    "outputId": "11401ebc-ad9b-4049-c22e-37cec24555f5"
   },
   "outputs": [
    {
     "data": {
      "text/html": [
       "<div>\n",
       "<style scoped>\n",
       "    .dataframe tbody tr th:only-of-type {\n",
       "        vertical-align: middle;\n",
       "    }\n",
       "\n",
       "    .dataframe tbody tr th {\n",
       "        vertical-align: top;\n",
       "    }\n",
       "\n",
       "    .dataframe thead th {\n",
       "        text-align: right;\n",
       "    }\n",
       "</style>\n",
       "<table border=\"1\" class=\"dataframe\">\n",
       "  <thead>\n",
       "    <tr style=\"text-align: right;\">\n",
       "      <th></th>\n",
       "      <th>P1</th>\n",
       "      <th>P2</th>\n",
       "      <th>P3</th>\n",
       "    </tr>\n",
       "  </thead>\n",
       "  <tbody>\n",
       "    <tr>\n",
       "      <th>Arnaldo</th>\n",
       "      <td>1.8</td>\n",
       "      <td>7.5</td>\n",
       "      <td>0.7</td>\n",
       "    </tr>\n",
       "    <tr>\n",
       "      <th>Bruno</th>\n",
       "      <td>3.0</td>\n",
       "      <td>1.5</td>\n",
       "      <td>3.9</td>\n",
       "    </tr>\n",
       "    <tr>\n",
       "      <th>Carla</th>\n",
       "      <td>4.3</td>\n",
       "      <td>9.2</td>\n",
       "      <td>0.1</td>\n",
       "    </tr>\n",
       "  </tbody>\n",
       "</table>\n",
       "</div>"
      ],
      "text/plain": [
       "          P1   P2   P3\n",
       "Arnaldo  1.8  7.5  0.7\n",
       "Bruno    3.0  1.5  3.9\n",
       "Carla    4.3  9.2  0.1"
      ]
     },
     "execution_count": 11,
     "metadata": {},
     "output_type": "execute_result"
    }
   ],
   "source": [
    "notas.head(3)"
   ]
  },
  {
   "cell_type": "code",
   "execution_count": 12,
   "metadata": {
    "colab": {
     "base_uri": "https://localhost:8080/",
     "height": 143
    },
    "id": "p1mOwR4AlQW5",
    "outputId": "d1785329-cdff-435e-d40e-9760624f462d"
   },
   "outputs": [
    {
     "data": {
      "text/html": [
       "<div>\n",
       "<style scoped>\n",
       "    .dataframe tbody tr th:only-of-type {\n",
       "        vertical-align: middle;\n",
       "    }\n",
       "\n",
       "    .dataframe tbody tr th {\n",
       "        vertical-align: top;\n",
       "    }\n",
       "\n",
       "    .dataframe thead th {\n",
       "        text-align: right;\n",
       "    }\n",
       "</style>\n",
       "<table border=\"1\" class=\"dataframe\">\n",
       "  <thead>\n",
       "    <tr style=\"text-align: right;\">\n",
       "      <th></th>\n",
       "      <th>P1</th>\n",
       "      <th>P2</th>\n",
       "      <th>P3</th>\n",
       "    </tr>\n",
       "  </thead>\n",
       "  <tbody>\n",
       "    <tr>\n",
       "      <th>Emily</th>\n",
       "      <td>2.1</td>\n",
       "      <td>8.2</td>\n",
       "      <td>5.7</td>\n",
       "    </tr>\n",
       "    <tr>\n",
       "      <th>Fabio</th>\n",
       "      <td>7.9</td>\n",
       "      <td>2.0</td>\n",
       "      <td>5.0</td>\n",
       "    </tr>\n",
       "    <tr>\n",
       "      <th>Glória</th>\n",
       "      <td>4.1</td>\n",
       "      <td>6.1</td>\n",
       "      <td>8.9</td>\n",
       "    </tr>\n",
       "  </tbody>\n",
       "</table>\n",
       "</div>"
      ],
      "text/plain": [
       "         P1   P2   P3\n",
       "Emily   2.1  8.2  5.7\n",
       "Fabio   7.9  2.0  5.0\n",
       "Glória  4.1  6.1  8.9"
      ]
     },
     "execution_count": 12,
     "metadata": {},
     "output_type": "execute_result"
    }
   ],
   "source": [
    "notas.tail(3)"
   ]
  },
  {
   "cell_type": "code",
   "execution_count": 13,
   "metadata": {
    "colab": {
     "base_uri": "https://localhost:8080/",
     "height": 143
    },
    "id": "uKw_PfXglX98",
    "outputId": "f49a5c2e-ea26-4633-e726-7f70dd0dc589"
   },
   "outputs": [
    {
     "data": {
      "text/html": [
       "<div>\n",
       "<style scoped>\n",
       "    .dataframe tbody tr th:only-of-type {\n",
       "        vertical-align: middle;\n",
       "    }\n",
       "\n",
       "    .dataframe tbody tr th {\n",
       "        vertical-align: top;\n",
       "    }\n",
       "\n",
       "    .dataframe thead th {\n",
       "        text-align: right;\n",
       "    }\n",
       "</style>\n",
       "<table border=\"1\" class=\"dataframe\">\n",
       "  <thead>\n",
       "    <tr style=\"text-align: right;\">\n",
       "      <th></th>\n",
       "      <th>P1</th>\n",
       "      <th>P2</th>\n",
       "      <th>P3</th>\n",
       "    </tr>\n",
       "  </thead>\n",
       "  <tbody>\n",
       "    <tr>\n",
       "      <th>Emily</th>\n",
       "      <td>2.1</td>\n",
       "      <td>8.2</td>\n",
       "      <td>5.7</td>\n",
       "    </tr>\n",
       "    <tr>\n",
       "      <th>Bruno</th>\n",
       "      <td>3.0</td>\n",
       "      <td>1.5</td>\n",
       "      <td>3.9</td>\n",
       "    </tr>\n",
       "    <tr>\n",
       "      <th>Daniel</th>\n",
       "      <td>0.3</td>\n",
       "      <td>2.1</td>\n",
       "      <td>9.9</td>\n",
       "    </tr>\n",
       "  </tbody>\n",
       "</table>\n",
       "</div>"
      ],
      "text/plain": [
       "         P1   P2   P3\n",
       "Emily   2.1  8.2  5.7\n",
       "Bruno   3.0  1.5  3.9\n",
       "Daniel  0.3  2.1  9.9"
      ]
     },
     "execution_count": 13,
     "metadata": {},
     "output_type": "execute_result"
    }
   ],
   "source": [
    "notas.sample(3)"
   ]
  },
  {
   "cell_type": "code",
   "execution_count": 14,
   "metadata": {
    "colab": {
     "base_uri": "https://localhost:8080/"
    },
    "id": "8gjTCL_el_P_",
    "outputId": "f78022cb-faac-4f42-a5e8-d87dcc7fb597"
   },
   "outputs": [
    {
     "data": {
      "text/plain": [
       "Arnaldo    3.3\n",
       "Bruno      2.8\n",
       "Carla      4.5\n",
       "Daniel     4.1\n",
       "Emily      5.3\n",
       "Fabio      5.0\n",
       "Glória     6.4\n",
       "dtype: float64"
      ]
     },
     "execution_count": 14,
     "metadata": {},
     "output_type": "execute_result"
    }
   ],
   "source": [
    "notas.mean(axis=1).round(1)"
   ]
  },
  {
   "cell_type": "code",
   "execution_count": 15,
   "metadata": {
    "colab": {
     "base_uri": "https://localhost:8080/"
    },
    "id": "5jP_yBfKmocS",
    "outputId": "8ee72da2-e47f-4eb4-d430-68f2ff692086"
   },
   "outputs": [
    {
     "data": {
      "text/plain": [
       "Arnaldo    4.0\n",
       "Bruno      3.0\n",
       "Carla      5.0\n",
       "Daniel     5.0\n",
       "Emily      6.0\n",
       "Fabio      5.0\n",
       "Glória     7.0\n",
       "dtype: float64"
      ]
     },
     "execution_count": 15,
     "metadata": {},
     "output_type": "execute_result"
    }
   ],
   "source": [
    "# Arrendondamenro para o maior valor inteiro\n",
    "\n",
    "np.ceil(notas.mean(axis=1))"
   ]
  },
  {
   "cell_type": "code",
   "execution_count": 16,
   "metadata": {
    "colab": {
     "base_uri": "https://localhost:8080/",
     "height": 269
    },
    "id": "ALF_vwZrnULE",
    "outputId": "d3bcabfa-77d2-4a07-ab51-aff515118b6e"
   },
   "outputs": [
    {
     "data": {
      "text/html": [
       "<div>\n",
       "<style scoped>\n",
       "    .dataframe tbody tr th:only-of-type {\n",
       "        vertical-align: middle;\n",
       "    }\n",
       "\n",
       "    .dataframe tbody tr th {\n",
       "        vertical-align: top;\n",
       "    }\n",
       "\n",
       "    .dataframe thead th {\n",
       "        text-align: right;\n",
       "    }\n",
       "</style>\n",
       "<table border=\"1\" class=\"dataframe\">\n",
       "  <thead>\n",
       "    <tr style=\"text-align: right;\">\n",
       "      <th></th>\n",
       "      <th>P1</th>\n",
       "      <th>P2</th>\n",
       "      <th>P3</th>\n",
       "      <th>MF</th>\n",
       "    </tr>\n",
       "  </thead>\n",
       "  <tbody>\n",
       "    <tr>\n",
       "      <th>Arnaldo</th>\n",
       "      <td>1.8</td>\n",
       "      <td>7.5</td>\n",
       "      <td>0.7</td>\n",
       "      <td>3.4</td>\n",
       "    </tr>\n",
       "    <tr>\n",
       "      <th>Bruno</th>\n",
       "      <td>3.0</td>\n",
       "      <td>1.5</td>\n",
       "      <td>3.9</td>\n",
       "      <td>2.9</td>\n",
       "    </tr>\n",
       "    <tr>\n",
       "      <th>Carla</th>\n",
       "      <td>4.3</td>\n",
       "      <td>9.2</td>\n",
       "      <td>0.1</td>\n",
       "      <td>4.6</td>\n",
       "    </tr>\n",
       "    <tr>\n",
       "      <th>Daniel</th>\n",
       "      <td>0.3</td>\n",
       "      <td>2.1</td>\n",
       "      <td>9.9</td>\n",
       "      <td>4.2</td>\n",
       "    </tr>\n",
       "    <tr>\n",
       "      <th>Emily</th>\n",
       "      <td>2.1</td>\n",
       "      <td>8.2</td>\n",
       "      <td>5.7</td>\n",
       "      <td>5.4</td>\n",
       "    </tr>\n",
       "    <tr>\n",
       "      <th>Fabio</th>\n",
       "      <td>7.9</td>\n",
       "      <td>2.0</td>\n",
       "      <td>5.0</td>\n",
       "      <td>5.0</td>\n",
       "    </tr>\n",
       "    <tr>\n",
       "      <th>Glória</th>\n",
       "      <td>4.1</td>\n",
       "      <td>6.1</td>\n",
       "      <td>8.9</td>\n",
       "      <td>6.4</td>\n",
       "    </tr>\n",
       "  </tbody>\n",
       "</table>\n",
       "</div>"
      ],
      "text/plain": [
       "          P1   P2   P3   MF\n",
       "Arnaldo  1.8  7.5  0.7  3.4\n",
       "Bruno    3.0  1.5  3.9  2.9\n",
       "Carla    4.3  9.2  0.1  4.6\n",
       "Daniel   0.3  2.1  9.9  4.2\n",
       "Emily    2.1  8.2  5.7  5.4\n",
       "Fabio    7.9  2.0  5.0  5.0\n",
       "Glória   4.1  6.1  8.9  6.4"
      ]
     },
     "execution_count": 16,
     "metadata": {},
     "output_type": "execute_result"
    }
   ],
   "source": [
    "mf = np.ceil(10*notas.mean(axis=1))/10\n",
    "\n",
    "# adicionar a coluna de media final no conjunto de dados\n",
    "\n",
    "notas['MF'] = mf\n",
    "notas"
   ]
  },
  {
   "cell_type": "code",
   "execution_count": 17,
   "metadata": {
    "colab": {
     "base_uri": "https://localhost:8080/",
     "height": 269
    },
    "id": "R5NYSJEcn9ph",
    "outputId": "7db2cd6f-68ea-4d48-916e-630ac82e934d"
   },
   "outputs": [
    {
     "data": {
      "text/html": [
       "<div>\n",
       "<style scoped>\n",
       "    .dataframe tbody tr th:only-of-type {\n",
       "        vertical-align: middle;\n",
       "    }\n",
       "\n",
       "    .dataframe tbody tr th {\n",
       "        vertical-align: top;\n",
       "    }\n",
       "\n",
       "    .dataframe thead th {\n",
       "        text-align: right;\n",
       "    }\n",
       "</style>\n",
       "<table border=\"1\" class=\"dataframe\">\n",
       "  <thead>\n",
       "    <tr style=\"text-align: right;\">\n",
       "      <th></th>\n",
       "      <th>P1</th>\n",
       "      <th>P2</th>\n",
       "      <th>P3</th>\n",
       "      <th>MF</th>\n",
       "      <th>Situação</th>\n",
       "    </tr>\n",
       "  </thead>\n",
       "  <tbody>\n",
       "    <tr>\n",
       "      <th>Arnaldo</th>\n",
       "      <td>1.8</td>\n",
       "      <td>7.5</td>\n",
       "      <td>0.7</td>\n",
       "      <td>3.4</td>\n",
       "      <td>Reprovado</td>\n",
       "    </tr>\n",
       "    <tr>\n",
       "      <th>Bruno</th>\n",
       "      <td>3.0</td>\n",
       "      <td>1.5</td>\n",
       "      <td>3.9</td>\n",
       "      <td>2.9</td>\n",
       "      <td>Reprovado</td>\n",
       "    </tr>\n",
       "    <tr>\n",
       "      <th>Carla</th>\n",
       "      <td>4.3</td>\n",
       "      <td>9.2</td>\n",
       "      <td>0.1</td>\n",
       "      <td>4.6</td>\n",
       "      <td>Reprovado</td>\n",
       "    </tr>\n",
       "    <tr>\n",
       "      <th>Daniel</th>\n",
       "      <td>0.3</td>\n",
       "      <td>2.1</td>\n",
       "      <td>9.9</td>\n",
       "      <td>4.2</td>\n",
       "      <td>Reprovado</td>\n",
       "    </tr>\n",
       "    <tr>\n",
       "      <th>Emily</th>\n",
       "      <td>2.1</td>\n",
       "      <td>8.2</td>\n",
       "      <td>5.7</td>\n",
       "      <td>5.4</td>\n",
       "      <td>Reprovado</td>\n",
       "    </tr>\n",
       "    <tr>\n",
       "      <th>Fabio</th>\n",
       "      <td>7.9</td>\n",
       "      <td>2.0</td>\n",
       "      <td>5.0</td>\n",
       "      <td>5.0</td>\n",
       "      <td>Reprovado</td>\n",
       "    </tr>\n",
       "    <tr>\n",
       "      <th>Glória</th>\n",
       "      <td>4.1</td>\n",
       "      <td>6.1</td>\n",
       "      <td>8.9</td>\n",
       "      <td>6.4</td>\n",
       "      <td>Aprovado</td>\n",
       "    </tr>\n",
       "  </tbody>\n",
       "</table>\n",
       "</div>"
      ],
      "text/plain": [
       "          P1   P2   P3   MF   Situação\n",
       "Arnaldo  1.8  7.5  0.7  3.4  Reprovado\n",
       "Bruno    3.0  1.5  3.9  2.9  Reprovado\n",
       "Carla    4.3  9.2  0.1  4.6  Reprovado\n",
       "Daniel   0.3  2.1  9.9  4.2  Reprovado\n",
       "Emily    2.1  8.2  5.7  5.4  Reprovado\n",
       "Fabio    7.9  2.0  5.0  5.0  Reprovado\n",
       "Glória   4.1  6.1  8.9  6.4   Aprovado"
      ]
     },
     "execution_count": 17,
     "metadata": {},
     "output_type": "execute_result"
    }
   ],
   "source": [
    "# O aluno é considerado aprovado quando sua nota MF >= 6\n",
    "\n",
    "# ** MUITO ÚTIL!!!! ***\n",
    "\n",
    "def auxiliar(nota):\n",
    "  if nota >=6:\n",
    "    saida = 'Aprovado'\n",
    "  else:\n",
    "    saida = 'Reprovado'\n",
    "  return saida\n",
    "\n",
    "notas['Situação'] = notas['MF'].apply(auxiliar)\n",
    "notas"
   ]
  },
  {
   "cell_type": "code",
   "execution_count": 18,
   "metadata": {
    "colab": {
     "base_uri": "https://localhost:8080/",
     "height": 269
    },
    "id": "5qpiYOaHqNX5",
    "outputId": "80313aca-9f78-466f-e18b-10478607ec61"
   },
   "outputs": [
    {
     "data": {
      "text/html": [
       "<div>\n",
       "<style scoped>\n",
       "    .dataframe tbody tr th:only-of-type {\n",
       "        vertical-align: middle;\n",
       "    }\n",
       "\n",
       "    .dataframe tbody tr th {\n",
       "        vertical-align: top;\n",
       "    }\n",
       "\n",
       "    .dataframe thead th {\n",
       "        text-align: right;\n",
       "    }\n",
       "</style>\n",
       "<table border=\"1\" class=\"dataframe\">\n",
       "  <thead>\n",
       "    <tr style=\"text-align: right;\">\n",
       "      <th></th>\n",
       "      <th>P1</th>\n",
       "      <th>P2</th>\n",
       "      <th>P3</th>\n",
       "      <th>MF</th>\n",
       "      <th>Situação</th>\n",
       "    </tr>\n",
       "  </thead>\n",
       "  <tbody>\n",
       "    <tr>\n",
       "      <th>Glória</th>\n",
       "      <td>4.1</td>\n",
       "      <td>6.1</td>\n",
       "      <td>8.9</td>\n",
       "      <td>6.4</td>\n",
       "      <td>Aprovado</td>\n",
       "    </tr>\n",
       "    <tr>\n",
       "      <th>Emily</th>\n",
       "      <td>2.1</td>\n",
       "      <td>8.2</td>\n",
       "      <td>5.7</td>\n",
       "      <td>5.4</td>\n",
       "      <td>Reprovado</td>\n",
       "    </tr>\n",
       "    <tr>\n",
       "      <th>Fabio</th>\n",
       "      <td>7.9</td>\n",
       "      <td>2.0</td>\n",
       "      <td>5.0</td>\n",
       "      <td>5.0</td>\n",
       "      <td>Reprovado</td>\n",
       "    </tr>\n",
       "    <tr>\n",
       "      <th>Carla</th>\n",
       "      <td>4.3</td>\n",
       "      <td>9.2</td>\n",
       "      <td>0.1</td>\n",
       "      <td>4.6</td>\n",
       "      <td>Reprovado</td>\n",
       "    </tr>\n",
       "    <tr>\n",
       "      <th>Daniel</th>\n",
       "      <td>0.3</td>\n",
       "      <td>2.1</td>\n",
       "      <td>9.9</td>\n",
       "      <td>4.2</td>\n",
       "      <td>Reprovado</td>\n",
       "    </tr>\n",
       "    <tr>\n",
       "      <th>Arnaldo</th>\n",
       "      <td>1.8</td>\n",
       "      <td>7.5</td>\n",
       "      <td>0.7</td>\n",
       "      <td>3.4</td>\n",
       "      <td>Reprovado</td>\n",
       "    </tr>\n",
       "    <tr>\n",
       "      <th>Bruno</th>\n",
       "      <td>3.0</td>\n",
       "      <td>1.5</td>\n",
       "      <td>3.9</td>\n",
       "      <td>2.9</td>\n",
       "      <td>Reprovado</td>\n",
       "    </tr>\n",
       "  </tbody>\n",
       "</table>\n",
       "</div>"
      ],
      "text/plain": [
       "          P1   P2   P3   MF   Situação\n",
       "Glória   4.1  6.1  8.9  6.4   Aprovado\n",
       "Emily    2.1  8.2  5.7  5.4  Reprovado\n",
       "Fabio    7.9  2.0  5.0  5.0  Reprovado\n",
       "Carla    4.3  9.2  0.1  4.6  Reprovado\n",
       "Daniel   0.3  2.1  9.9  4.2  Reprovado\n",
       "Arnaldo  1.8  7.5  0.7  3.4  Reprovado\n",
       "Bruno    3.0  1.5  3.9  2.9  Reprovado"
      ]
     },
     "execution_count": 18,
     "metadata": {},
     "output_type": "execute_result"
    }
   ],
   "source": [
    "# Ordenando os valores da MF de forma decrescente (ascending = False)\n",
    "\n",
    "notas.sort_values(by = 'MF', ascending = False)"
   ]
  },
  {
   "cell_type": "code",
   "execution_count": 19,
   "metadata": {
    "colab": {
     "base_uri": "https://localhost:8080/",
     "height": 269
    },
    "id": "k8DadRQpqzo1",
    "outputId": "be9023d5-027f-48e0-e2db-3f145492dd87"
   },
   "outputs": [
    {
     "data": {
      "text/html": [
       "<div>\n",
       "<style scoped>\n",
       "    .dataframe tbody tr th:only-of-type {\n",
       "        vertical-align: middle;\n",
       "    }\n",
       "\n",
       "    .dataframe tbody tr th {\n",
       "        vertical-align: top;\n",
       "    }\n",
       "\n",
       "    .dataframe thead th {\n",
       "        text-align: right;\n",
       "    }\n",
       "</style>\n",
       "<table border=\"1\" class=\"dataframe\">\n",
       "  <thead>\n",
       "    <tr style=\"text-align: right;\">\n",
       "      <th></th>\n",
       "      <th>P1</th>\n",
       "      <th>P2</th>\n",
       "      <th>P3</th>\n",
       "      <th>MF</th>\n",
       "      <th>Situação</th>\n",
       "    </tr>\n",
       "  </thead>\n",
       "  <tbody>\n",
       "    <tr>\n",
       "      <th>Glória</th>\n",
       "      <td>4.1</td>\n",
       "      <td>6.1</td>\n",
       "      <td>8.9</td>\n",
       "      <td>6.4</td>\n",
       "      <td>Aprovado</td>\n",
       "    </tr>\n",
       "    <tr>\n",
       "      <th>Emily</th>\n",
       "      <td>2.1</td>\n",
       "      <td>8.2</td>\n",
       "      <td>5.7</td>\n",
       "      <td>5.4</td>\n",
       "      <td>Reprovado</td>\n",
       "    </tr>\n",
       "    <tr>\n",
       "      <th>Fabio</th>\n",
       "      <td>7.9</td>\n",
       "      <td>2.0</td>\n",
       "      <td>5.0</td>\n",
       "      <td>5.0</td>\n",
       "      <td>Reprovado</td>\n",
       "    </tr>\n",
       "    <tr>\n",
       "      <th>Carla</th>\n",
       "      <td>4.3</td>\n",
       "      <td>9.2</td>\n",
       "      <td>0.1</td>\n",
       "      <td>4.6</td>\n",
       "      <td>Reprovado</td>\n",
       "    </tr>\n",
       "    <tr>\n",
       "      <th>Daniel</th>\n",
       "      <td>0.3</td>\n",
       "      <td>2.1</td>\n",
       "      <td>9.9</td>\n",
       "      <td>4.2</td>\n",
       "      <td>Reprovado</td>\n",
       "    </tr>\n",
       "    <tr>\n",
       "      <th>Arnaldo</th>\n",
       "      <td>1.8</td>\n",
       "      <td>7.5</td>\n",
       "      <td>0.7</td>\n",
       "      <td>3.4</td>\n",
       "      <td>Reprovado</td>\n",
       "    </tr>\n",
       "    <tr>\n",
       "      <th>Bruno</th>\n",
       "      <td>3.0</td>\n",
       "      <td>1.5</td>\n",
       "      <td>3.9</td>\n",
       "      <td>2.9</td>\n",
       "      <td>Reprovado</td>\n",
       "    </tr>\n",
       "  </tbody>\n",
       "</table>\n",
       "</div>"
      ],
      "text/plain": [
       "          P1   P2   P3   MF   Situação\n",
       "Glória   4.1  6.1  8.9  6.4   Aprovado\n",
       "Emily    2.1  8.2  5.7  5.4  Reprovado\n",
       "Fabio    7.9  2.0  5.0  5.0  Reprovado\n",
       "Carla    4.3  9.2  0.1  4.6  Reprovado\n",
       "Daniel   0.3  2.1  9.9  4.2  Reprovado\n",
       "Arnaldo  1.8  7.5  0.7  3.4  Reprovado\n",
       "Bruno    3.0  1.5  3.9  2.9  Reprovado"
      ]
     },
     "execution_count": 19,
     "metadata": {},
     "output_type": "execute_result"
    }
   ],
   "source": [
    "# Implementa a ordenação e implmenta a modificação no objeto (inplace = True)\n",
    "\n",
    "notas.sort_values(by = 'MF', ascending = False, inplace = True)\n",
    "notas"
   ]
  },
  {
   "cell_type": "code",
   "execution_count": 20,
   "metadata": {
    "colab": {
     "base_uri": "https://localhost:8080/"
    },
    "id": "4_nKTyz9rgVl",
    "outputId": "149465ed-e1fd-4294-f680-44d5189e41f3"
   },
   "outputs": [
    {
     "data": {
      "text/plain": [
       "Index(['Glória', 'Emily', 'Fabio', 'Carla', 'Daniel', 'Arnaldo', 'Bruno'], dtype='object')"
      ]
     },
     "execution_count": 20,
     "metadata": {},
     "output_type": "execute_result"
    }
   ],
   "source": [
    "notas.index"
   ]
  },
  {
   "cell_type": "code",
   "execution_count": 21,
   "metadata": {
    "colab": {
     "base_uri": "https://localhost:8080/",
     "height": 206
    },
    "id": "u5OXZ6ryrnNZ",
    "outputId": "b222059d-ec1e-4540-85d0-3a4b88cb4a20"
   },
   "outputs": [
    {
     "data": {
      "text/html": [
       "<div>\n",
       "<style scoped>\n",
       "    .dataframe tbody tr th:only-of-type {\n",
       "        vertical-align: middle;\n",
       "    }\n",
       "\n",
       "    .dataframe tbody tr th {\n",
       "        vertical-align: top;\n",
       "    }\n",
       "\n",
       "    .dataframe thead th {\n",
       "        text-align: right;\n",
       "    }\n",
       "</style>\n",
       "<table border=\"1\" class=\"dataframe\">\n",
       "  <thead>\n",
       "    <tr style=\"text-align: right;\">\n",
       "      <th></th>\n",
       "      <th>P1</th>\n",
       "      <th>P2</th>\n",
       "      <th>P3</th>\n",
       "      <th>MF</th>\n",
       "      <th>Situação</th>\n",
       "    </tr>\n",
       "  </thead>\n",
       "  <tbody>\n",
       "    <tr>\n",
       "      <th>Glória</th>\n",
       "      <td>4.1</td>\n",
       "      <td>6.1</td>\n",
       "      <td>8.9</td>\n",
       "      <td>6.4</td>\n",
       "      <td>Aprovado</td>\n",
       "    </tr>\n",
       "    <tr>\n",
       "      <th>Emily</th>\n",
       "      <td>2.1</td>\n",
       "      <td>8.2</td>\n",
       "      <td>5.7</td>\n",
       "      <td>5.4</td>\n",
       "      <td>Reprovado</td>\n",
       "    </tr>\n",
       "    <tr>\n",
       "      <th>Carla</th>\n",
       "      <td>4.3</td>\n",
       "      <td>9.2</td>\n",
       "      <td>0.1</td>\n",
       "      <td>4.6</td>\n",
       "      <td>Reprovado</td>\n",
       "    </tr>\n",
       "    <tr>\n",
       "      <th>Daniel</th>\n",
       "      <td>0.3</td>\n",
       "      <td>2.1</td>\n",
       "      <td>9.9</td>\n",
       "      <td>4.2</td>\n",
       "      <td>Reprovado</td>\n",
       "    </tr>\n",
       "    <tr>\n",
       "      <th>Bruno</th>\n",
       "      <td>3.0</td>\n",
       "      <td>1.5</td>\n",
       "      <td>3.9</td>\n",
       "      <td>2.9</td>\n",
       "      <td>Reprovado</td>\n",
       "    </tr>\n",
       "  </tbody>\n",
       "</table>\n",
       "</div>"
      ],
      "text/plain": [
       "         P1   P2   P3   MF   Situação\n",
       "Glória  4.1  6.1  8.9  6.4   Aprovado\n",
       "Emily   2.1  8.2  5.7  5.4  Reprovado\n",
       "Carla   4.3  9.2  0.1  4.6  Reprovado\n",
       "Daniel  0.3  2.1  9.9  4.2  Reprovado\n",
       "Bruno   3.0  1.5  3.9  2.9  Reprovado"
      ]
     },
     "execution_count": 21,
     "metadata": {},
     "output_type": "execute_result"
    }
   ],
   "source": [
    "# Retirar parâmetros de LINHAS sem modificar o objeto original -> drop\n",
    "\n",
    "notas.drop(['Arnaldo', 'Fabio'])"
   ]
  },
  {
   "cell_type": "code",
   "execution_count": 22,
   "metadata": {
    "colab": {
     "base_uri": "https://localhost:8080/",
     "height": 269
    },
    "id": "G8boakibr1Sq",
    "outputId": "7059b650-0f2b-40e3-bef1-16ccda32b8b8"
   },
   "outputs": [
    {
     "data": {
      "text/html": [
       "<div>\n",
       "<style scoped>\n",
       "    .dataframe tbody tr th:only-of-type {\n",
       "        vertical-align: middle;\n",
       "    }\n",
       "\n",
       "    .dataframe tbody tr th {\n",
       "        vertical-align: top;\n",
       "    }\n",
       "\n",
       "    .dataframe thead th {\n",
       "        text-align: right;\n",
       "    }\n",
       "</style>\n",
       "<table border=\"1\" class=\"dataframe\">\n",
       "  <thead>\n",
       "    <tr style=\"text-align: right;\">\n",
       "      <th></th>\n",
       "      <th>P2</th>\n",
       "      <th>P3</th>\n",
       "      <th>MF</th>\n",
       "    </tr>\n",
       "  </thead>\n",
       "  <tbody>\n",
       "    <tr>\n",
       "      <th>Glória</th>\n",
       "      <td>6.1</td>\n",
       "      <td>8.9</td>\n",
       "      <td>6.4</td>\n",
       "    </tr>\n",
       "    <tr>\n",
       "      <th>Emily</th>\n",
       "      <td>8.2</td>\n",
       "      <td>5.7</td>\n",
       "      <td>5.4</td>\n",
       "    </tr>\n",
       "    <tr>\n",
       "      <th>Fabio</th>\n",
       "      <td>2.0</td>\n",
       "      <td>5.0</td>\n",
       "      <td>5.0</td>\n",
       "    </tr>\n",
       "    <tr>\n",
       "      <th>Carla</th>\n",
       "      <td>9.2</td>\n",
       "      <td>0.1</td>\n",
       "      <td>4.6</td>\n",
       "    </tr>\n",
       "    <tr>\n",
       "      <th>Daniel</th>\n",
       "      <td>2.1</td>\n",
       "      <td>9.9</td>\n",
       "      <td>4.2</td>\n",
       "    </tr>\n",
       "    <tr>\n",
       "      <th>Arnaldo</th>\n",
       "      <td>7.5</td>\n",
       "      <td>0.7</td>\n",
       "      <td>3.4</td>\n",
       "    </tr>\n",
       "    <tr>\n",
       "      <th>Bruno</th>\n",
       "      <td>1.5</td>\n",
       "      <td>3.9</td>\n",
       "      <td>2.9</td>\n",
       "    </tr>\n",
       "  </tbody>\n",
       "</table>\n",
       "</div>"
      ],
      "text/plain": [
       "          P2   P3   MF\n",
       "Glória   6.1  8.9  6.4\n",
       "Emily    8.2  5.7  5.4\n",
       "Fabio    2.0  5.0  5.0\n",
       "Carla    9.2  0.1  4.6\n",
       "Daniel   2.1  9.9  4.2\n",
       "Arnaldo  7.5  0.7  3.4\n",
       "Bruno    1.5  3.9  2.9"
      ]
     },
     "execution_count": 22,
     "metadata": {},
     "output_type": "execute_result"
    }
   ],
   "source": [
    "# Para retirar parâmetros que econtram-se nas colunas: Inserir na função drop \"axis = 1\"\n",
    "\n",
    "notas.drop(['P1', 'Situação'], axis = 1)"
   ]
  },
  {
   "cell_type": "code",
   "execution_count": 23,
   "metadata": {
    "colab": {
     "base_uri": "https://localhost:8080/",
     "height": 269
    },
    "id": "_Rs5jDKmsOFS",
    "outputId": "3f351228-0762-4a27-8927-2ecd9b781ee2"
   },
   "outputs": [
    {
     "data": {
      "text/html": [
       "<div>\n",
       "<style scoped>\n",
       "    .dataframe tbody tr th:only-of-type {\n",
       "        vertical-align: middle;\n",
       "    }\n",
       "\n",
       "    .dataframe tbody tr th {\n",
       "        vertical-align: top;\n",
       "    }\n",
       "\n",
       "    .dataframe thead th {\n",
       "        text-align: right;\n",
       "    }\n",
       "</style>\n",
       "<table border=\"1\" class=\"dataframe\">\n",
       "  <thead>\n",
       "    <tr style=\"text-align: right;\">\n",
       "      <th></th>\n",
       "      <th>MF</th>\n",
       "      <th>Situação</th>\n",
       "    </tr>\n",
       "  </thead>\n",
       "  <tbody>\n",
       "    <tr>\n",
       "      <th>Glória</th>\n",
       "      <td>6.4</td>\n",
       "      <td>Aprovado</td>\n",
       "    </tr>\n",
       "    <tr>\n",
       "      <th>Emily</th>\n",
       "      <td>5.4</td>\n",
       "      <td>Reprovado</td>\n",
       "    </tr>\n",
       "    <tr>\n",
       "      <th>Fabio</th>\n",
       "      <td>5.0</td>\n",
       "      <td>Reprovado</td>\n",
       "    </tr>\n",
       "    <tr>\n",
       "      <th>Carla</th>\n",
       "      <td>4.6</td>\n",
       "      <td>Reprovado</td>\n",
       "    </tr>\n",
       "    <tr>\n",
       "      <th>Daniel</th>\n",
       "      <td>4.2</td>\n",
       "      <td>Reprovado</td>\n",
       "    </tr>\n",
       "    <tr>\n",
       "      <th>Arnaldo</th>\n",
       "      <td>3.4</td>\n",
       "      <td>Reprovado</td>\n",
       "    </tr>\n",
       "    <tr>\n",
       "      <th>Bruno</th>\n",
       "      <td>2.9</td>\n",
       "      <td>Reprovado</td>\n",
       "    </tr>\n",
       "  </tbody>\n",
       "</table>\n",
       "</div>"
      ],
      "text/plain": [
       "          MF   Situação\n",
       "Glória   6.4   Aprovado\n",
       "Emily    5.4  Reprovado\n",
       "Fabio    5.0  Reprovado\n",
       "Carla    4.6  Reprovado\n",
       "Daniel   4.2  Reprovado\n",
       "Arnaldo  3.4  Reprovado\n",
       "Bruno    2.9  Reprovado"
      ]
     },
     "execution_count": 23,
     "metadata": {},
     "output_type": "execute_result"
    }
   ],
   "source": [
    "# Retirar coluna modificando o objeto original\n",
    "\n",
    "notas_divulgação = notas.drop(provas, axis = 1)\n",
    "notas_divulgação"
   ]
  },
  {
   "cell_type": "code",
   "execution_count": 24,
   "metadata": {
    "colab": {
     "base_uri": "https://localhost:8080/",
     "height": 269
    },
    "id": "5uqE5ZatskjK",
    "outputId": "cb394a99-ce36-420e-dc0a-753749ddb2cb"
   },
   "outputs": [
    {
     "data": {
      "text/html": [
       "<div>\n",
       "<style scoped>\n",
       "    .dataframe tbody tr th:only-of-type {\n",
       "        vertical-align: middle;\n",
       "    }\n",
       "\n",
       "    .dataframe tbody tr th {\n",
       "        vertical-align: top;\n",
       "    }\n",
       "\n",
       "    .dataframe thead th {\n",
       "        text-align: right;\n",
       "    }\n",
       "</style>\n",
       "<table border=\"1\" class=\"dataframe\">\n",
       "  <thead>\n",
       "    <tr style=\"text-align: right;\">\n",
       "      <th></th>\n",
       "      <th>P1</th>\n",
       "      <th>P2</th>\n",
       "      <th>P3</th>\n",
       "    </tr>\n",
       "  </thead>\n",
       "  <tbody>\n",
       "    <tr>\n",
       "      <th>Glória</th>\n",
       "      <td>4.1</td>\n",
       "      <td>6.1</td>\n",
       "      <td>8.9</td>\n",
       "    </tr>\n",
       "    <tr>\n",
       "      <th>Emily</th>\n",
       "      <td>2.1</td>\n",
       "      <td>8.2</td>\n",
       "      <td>5.7</td>\n",
       "    </tr>\n",
       "    <tr>\n",
       "      <th>Fabio</th>\n",
       "      <td>7.9</td>\n",
       "      <td>2.0</td>\n",
       "      <td>5.0</td>\n",
       "    </tr>\n",
       "    <tr>\n",
       "      <th>Carla</th>\n",
       "      <td>4.3</td>\n",
       "      <td>9.2</td>\n",
       "      <td>0.1</td>\n",
       "    </tr>\n",
       "    <tr>\n",
       "      <th>Daniel</th>\n",
       "      <td>0.3</td>\n",
       "      <td>2.1</td>\n",
       "      <td>9.9</td>\n",
       "    </tr>\n",
       "    <tr>\n",
       "      <th>Arnaldo</th>\n",
       "      <td>1.8</td>\n",
       "      <td>7.5</td>\n",
       "      <td>0.7</td>\n",
       "    </tr>\n",
       "    <tr>\n",
       "      <th>Bruno</th>\n",
       "      <td>3.0</td>\n",
       "      <td>1.5</td>\n",
       "      <td>3.9</td>\n",
       "    </tr>\n",
       "  </tbody>\n",
       "</table>\n",
       "</div>"
      ],
      "text/plain": [
       "          P1   P2   P3\n",
       "Glória   4.1  6.1  8.9\n",
       "Emily    2.1  8.2  5.7\n",
       "Fabio    7.9  2.0  5.0\n",
       "Carla    4.3  9.2  0.1\n",
       "Daniel   0.3  2.1  9.9\n",
       "Arnaldo  1.8  7.5  0.7\n",
       "Bruno    3.0  1.5  3.9"
      ]
     },
     "execution_count": 24,
     "metadata": {},
     "output_type": "execute_result"
    }
   ],
   "source": [
    "# Retirar coluna modificando o objeto original\n",
    "\n",
    "notas_provas = notas.drop(['MF', 'Situação'], axis =1)\n",
    "notas_provas"
   ]
  },
  {
   "cell_type": "code",
   "execution_count": 25,
   "metadata": {
    "colab": {
     "base_uri": "https://localhost:8080/",
     "height": 269
    },
    "id": "NYwoB1AItibd",
    "outputId": "6a1b4212-db62-49cb-ae70-324c6b5f8156"
   },
   "outputs": [
    {
     "data": {
      "text/html": [
       "<div>\n",
       "<style scoped>\n",
       "    .dataframe tbody tr th:only-of-type {\n",
       "        vertical-align: middle;\n",
       "    }\n",
       "\n",
       "    .dataframe tbody tr th {\n",
       "        vertical-align: top;\n",
       "    }\n",
       "\n",
       "    .dataframe thead th {\n",
       "        text-align: right;\n",
       "    }\n",
       "</style>\n",
       "<table border=\"1\" class=\"dataframe\">\n",
       "  <thead>\n",
       "    <tr style=\"text-align: right;\">\n",
       "      <th></th>\n",
       "      <th>P1</th>\n",
       "      <th>P2</th>\n",
       "      <th>P3</th>\n",
       "      <th>MF</th>\n",
       "      <th>Situação</th>\n",
       "    </tr>\n",
       "  </thead>\n",
       "  <tbody>\n",
       "    <tr>\n",
       "      <th>Glória</th>\n",
       "      <td>4.1</td>\n",
       "      <td>6.1</td>\n",
       "      <td>8.9</td>\n",
       "      <td>6.4</td>\n",
       "      <td>Aprovado</td>\n",
       "    </tr>\n",
       "    <tr>\n",
       "      <th>Emily</th>\n",
       "      <td>2.1</td>\n",
       "      <td>8.2</td>\n",
       "      <td>5.7</td>\n",
       "      <td>5.4</td>\n",
       "      <td>Reprovado</td>\n",
       "    </tr>\n",
       "    <tr>\n",
       "      <th>Fabio</th>\n",
       "      <td>7.9</td>\n",
       "      <td>2.0</td>\n",
       "      <td>5.0</td>\n",
       "      <td>5.0</td>\n",
       "      <td>Reprovado</td>\n",
       "    </tr>\n",
       "    <tr>\n",
       "      <th>Carla</th>\n",
       "      <td>4.3</td>\n",
       "      <td>9.2</td>\n",
       "      <td>0.1</td>\n",
       "      <td>4.6</td>\n",
       "      <td>Reprovado</td>\n",
       "    </tr>\n",
       "    <tr>\n",
       "      <th>Daniel</th>\n",
       "      <td>0.3</td>\n",
       "      <td>2.1</td>\n",
       "      <td>9.9</td>\n",
       "      <td>4.2</td>\n",
       "      <td>Reprovado</td>\n",
       "    </tr>\n",
       "    <tr>\n",
       "      <th>Arnaldo</th>\n",
       "      <td>1.8</td>\n",
       "      <td>7.5</td>\n",
       "      <td>0.7</td>\n",
       "      <td>3.4</td>\n",
       "      <td>Reprovado</td>\n",
       "    </tr>\n",
       "    <tr>\n",
       "      <th>Bruno</th>\n",
       "      <td>3.0</td>\n",
       "      <td>1.5</td>\n",
       "      <td>3.9</td>\n",
       "      <td>2.9</td>\n",
       "      <td>Reprovado</td>\n",
       "    </tr>\n",
       "  </tbody>\n",
       "</table>\n",
       "</div>"
      ],
      "text/plain": [
       "          P1   P2   P3   MF   Situação\n",
       "Glória   4.1  6.1  8.9  6.4   Aprovado\n",
       "Emily    2.1  8.2  5.7  5.4  Reprovado\n",
       "Fabio    7.9  2.0  5.0  5.0  Reprovado\n",
       "Carla    4.3  9.2  0.1  4.6  Reprovado\n",
       "Daniel   0.3  2.1  9.9  4.2  Reprovado\n",
       "Arnaldo  1.8  7.5  0.7  3.4  Reprovado\n",
       "Bruno    3.0  1.5  3.9  2.9  Reprovado"
      ]
     },
     "execution_count": 25,
     "metadata": {},
     "output_type": "execute_result"
    }
   ],
   "source": [
    "notas"
   ]
  },
  {
   "cell_type": "code",
   "execution_count": 33,
   "metadata": {},
   "outputs": [
    {
     "data": {
      "image/png": "[encoded data removed]",
      "text/plain": [
       "<Figure size 640x480 with 1 Axes>"
      ]
     },
     "metadata": {},
     "output_type": "display_data"
    }
   ],
   "source": [
    "notas.Situação.hist();"
   ]
  },
  {
   "cell_type": "markdown",
   "metadata": {
    "id": "mUBjjPG1tk2j"
   },
   "source": [
    "# Exercício Proposto\n",
    "\n",
    "Crie um conjunto com 1000 nomes e 3 variáveis geradas aleatoriamente:\n",
    "\n",
    "- nomes: use a biblioteca names para gerar nomes aleatórios\n",
    "- renda_anual: 50000 + 10000*u, onde \"u\" é gerado aleatoriamente de uma distribuição normal padrão;\n",
    "- conclusao: u, onde \"u\" é gerado de uma distribuição uniforme em (0,1)\n",
    "\n",
    "Agora, acrescente ao conjunto de dados uma variável que represente:\n",
    "\n",
    "- renda por mês\n",
    "- faixa de conclusão: (0 - 0,25: baixa; 0,25 - 0,50: média; 0,50 - 0,75: alta; 0,75 - 1: excelente)\n",
    "- tamanho_do_nome: (pequeno: se o nome tem até 14 caracteres; grande: se tem mais que 15 caracteres)\n",
    "\n",
    "Entregue o conjunto de dados ordenado pelo tamanho_do_nome"
   ]
  },
  {
   "cell_type": "code",
   "execution_count": 26,
   "metadata": {
    "colab": {
     "base_uri": "https://localhost:8080/"
    },
    "id": "hXsDYlnOveVS",
    "outputId": "43a09463-2ffd-48ee-d903-075b956b3623"
   },
   "outputs": [
    {
     "name": "stdout",
     "output_type": "stream",
     "text": [
      "Collecting names\n",
      "  Downloading names-0.3.0.tar.gz (789 kB)\n",
      "     -------------------------------------- 789.1/789.1 kB 2.9 MB/s eta 0:00:00\n",
      "  Preparing metadata (setup.py): started\n",
      "  Preparing metadata (setup.py): finished with status 'done'\n",
      "Using legacy 'setup.py install' for names, since package 'wheel' is not installed.\n",
      "Installing collected packages: names\n",
      "  Running setup.py install for names: started\n",
      "  Running setup.py install for names: finished with status 'done'\n",
      "Successfully installed names-0.3.0\n"
     ]
    }
   ],
   "source": [
    "# Variável names -> Necessário installar no Collab:\n",
    "\n",
    "!pip install names"
   ]
  },
  {
   "cell_type": "code",
   "execution_count": 27,
   "metadata": {
    "id": "ZdYyHMHSwTOq"
   },
   "outputs": [],
   "source": [
    "import names"
   ]
  },
  {
   "cell_type": "code",
   "execution_count": 28,
   "metadata": {
    "colab": {
     "base_uri": "https://localhost:8080/",
     "height": 35
    },
    "id": "mkTYq_Z0wVqz",
    "outputId": "7004862c-2057-4772-d979-48a3bb09b46e"
   },
   "outputs": [
    {
     "data": {
      "text/plain": [
       "'Erin House'"
      ]
     },
     "execution_count": 28,
     "metadata": {},
     "output_type": "execute_result"
    }
   ],
   "source": [
    "# Criando um nome aleatório\n",
    "names.get_full_name()"
   ]
  },
  {
   "cell_type": "code",
   "execution_count": 29,
   "metadata": {
    "colab": {
     "base_uri": "https://localhost:8080/",
     "height": 35
    },
    "id": "s24c7QuFwh8d",
    "outputId": "99627dfd-c0e8-432c-b21c-c626827303d4"
   },
   "outputs": [
    {
     "data": {
      "text/plain": [
       "'Henry'"
      ]
     },
     "execution_count": 29,
     "metadata": {},
     "output_type": "execute_result"
    }
   ],
   "source": [
    "# Extraindo apenas o primeiro nome aleatório\n",
    "names.get_first_name()"
   ]
  },
  {
   "cell_type": "code",
   "execution_count": 30,
   "metadata": {
    "colab": {
     "base_uri": "https://localhost:8080/",
     "height": 35
    },
    "id": "e8H7wF1cwpwg",
    "outputId": "caf43f5e-3d9a-4670-b72a-1e530c240794"
   },
   "outputs": [
    {
     "data": {
      "text/plain": [
       "'Lea'"
      ]
     },
     "execution_count": 30,
     "metadata": {},
     "output_type": "execute_result"
    }
   ],
   "source": [
    "# Extraindo apenas o primeiro nome aleatório de um determinado sexo (female ou male)\n",
    "names.get_first_name(gender = 'female')"
   ]
  },
  {
   "cell_type": "code",
   "execution_count": 31,
   "metadata": {
    "colab": {
     "base_uri": "https://localhost:8080/"
    },
    "id": "ij1GamlJw7xZ",
    "outputId": "82a4b6ac-9a78-4d98-a808-cd7a74132352"
   },
   "outputs": [
    {
     "data": {
      "text/plain": [
       "['Patsy Beals', 'Erica Jones', 'Susan Moore', 'Rose Mason', 'Willie Abrams']"
      ]
     },
     "execution_count": 31,
     "metadata": {},
     "output_type": "execute_result"
    }
   ],
   "source": [
    "# Criando uma lista de \"5\" nomes aleatórios\n",
    "[names.get_full_name() for i in range(5)]"
   ]
  },
  {
   "cell_type": "code",
   "execution_count": 32,
   "metadata": {
    "id": "-180jZ3_O8x2"
   },
   "outputs": [
    {
     "ename": "ModuleNotFoundError",
     "evalue": "No module named 'scipy'",
     "output_type": "error",
     "traceback": [
      "\u001b[1;31m---------------------------------------------------------------------------\u001b[0m",
      "\u001b[1;31mModuleNotFoundError\u001b[0m                       Traceback (most recent call last)",
      "Cell \u001b[1;32mIn [32], line 4\u001b[0m\n\u001b[0;32m      1\u001b[0m \u001b[38;5;66;03m# Atividade\u001b[39;00m\n\u001b[0;32m      3\u001b[0m \u001b[38;5;28;01mimport\u001b[39;00m \u001b[38;5;21;01mnames\u001b[39;00m\n\u001b[1;32m----> 4\u001b[0m \u001b[38;5;28;01mimport\u001b[39;00m \u001b[38;5;21;01mscipy\u001b[39;00m\u001b[38;5;21;01m.\u001b[39;00m\u001b[38;5;21;01mstats\u001b[39;00m \u001b[38;5;28;01mas\u001b[39;00m \u001b[38;5;21;01mss\u001b[39;00m\n\u001b[0;32m      5\u001b[0m \u001b[38;5;28;01mimport\u001b[39;00m \u001b[38;5;21;01mnumpy\u001b[39;00m \u001b[38;5;28;01mas\u001b[39;00m \u001b[38;5;21;01mnp\u001b[39;00m\n\u001b[0;32m      6\u001b[0m \u001b[38;5;28;01mimport\u001b[39;00m \u001b[38;5;21;01mpandas\u001b[39;00m \u001b[38;5;28;01mas\u001b[39;00m \u001b[38;5;21;01mpd\u001b[39;00m\n",
      "\u001b[1;31mModuleNotFoundError\u001b[0m: No module named 'scipy'"
     ]
    }
   ],
   "source": [
    "# Atividade\n",
    "\n",
    "import names\n",
    "import scipy.stats as ss\n",
    "import numpy as np\n",
    "import pandas as pd\n",
    "\n",
    "reps = 1000\n",
    "meses = 12\n",
    "\n",
    "nomes = [names.get_full_name() for i in range(reps)]\n",
    "renda = [((50000 + 10000*ss.norm.rvs())/meses) for i in range(reps*meses)]\n",
    "conclusao = [ss.uniform.rvs() for i in range(reps)]"
   ]
  },
  {
   "cell_type": "code",
   "execution_count": null,
   "metadata": {
    "colab": {
     "base_uri": "https://localhost:8080/",
     "height": 598
    },
    "id": "jvxfsYDQbG0d",
    "outputId": "ff42b61d-da4b-47c7-a3c2-923f4144dc4d"
   },
   "outputs": [],
   "source": [
    "renda_mes = np.array(renda).reshape(reps,12)\n",
    "tamanho_do_nome = [len(nomes[i]) for i in range(reps)]\n",
    "\n",
    "Mes = ['Jan', 'Fev', 'Mar', 'Abr', 'Maio', 'Jun', 'Jul', 'Ago', 'Set', 'Out', 'Nov', 'Dez' ]\n",
    "\n",
    "rendas = pd.DataFrame(renda_mes, index = nomes, columns = Mes).round(1)\n",
    "\n",
    "rendas['Conclusão'] = conclusao\n",
    "rendas['Tamanho'] = tamanho_do_nome\n",
    "\n",
    "\n",
    "def auxiliar(faixa):\n",
    "  if faixa <= 0.25:\n",
    "    saida = 'baixa'\n",
    "  if faixa > 0.25 and faixa <= 0.5:\n",
    "    saida = 'media'\n",
    "  if faixa > 0.5 and faixa <= 0.75:\n",
    "    saida = 'alta'\n",
    "  if faixa > 0.75:\n",
    "    saida = 'excelente'\n",
    "  return saida\n",
    "\n",
    "rendas['Faixa de Conclusão'] = rendas['Conclusão'].apply(auxiliar)\n",
    "\n",
    "def auxiliar2(tamanho):\n",
    "  if tamanho < 15:\n",
    "    saida2 = 'pequeno'\n",
    "  else:\n",
    "    saida2 = 'grande'\n",
    "  return saida2\n",
    "\n",
    "rendas['Tamanho do Nome'] = rendas['Tamanho'].apply(auxiliar2)\n",
    "\n",
    "\n",
    "\n",
    "rendas.sort_values(by = 'Tamanho', ascending = False, inplace = True)\n",
    "dados = rendas.head(10)\n",
    "dados"
   ]
  }
 ],
 "metadata": {
  "colab": {
   "authorship_tag": "ABX9TyMHkAw4C4BgT6tuBPNE4DOd",
   "include_colab_link": true,
   "name": "IntroPandas.ipynb",
   "provenance": []
  },
  "kernelspec": {
   "display_name": "Python 3 (ipykernel)",
   "language": "python",
   "name": "python3"
  },
  "language_info": {
   "codemirror_mode": {
    "name": "ipython",
    "version": 3
   },
   "file_extension": ".py",
   "mimetype": "text/x-python",
   "name": "python",
   "nbconvert_exporter": "python",
   "pygments_lexer": "ipython3",
   "version": "3.10.2"
  }
 },
 "nbformat": 4,
 "nbformat_minor": 4
}
