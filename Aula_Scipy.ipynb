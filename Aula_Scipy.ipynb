{
  "nbformat": 4,
  "nbformat_minor": 0,
  "metadata": {
    "colab": {
      "name": "Aula_Scipy.ipynb",
      "provenance": [],
      "authorship_tag": "ABX9TyMMWAxFuQPHvgA7QN3sEA7W",
      "include_colab_link": true
    },
    "kernelspec": {
      "name": "python3",
      "display_name": "Python 3"
    },
    "language_info": {
      "name": "python"
    }
  },
  "cells": [
    {
      "cell_type": "markdown",
      "metadata": {
        "id": "view-in-github",
        "colab_type": "text"
      },
      "source": [
        "<a href=\"https://colab.research.google.com/github/arnaldorosentino/ExerciciosMBA_Parte2/blob/main/Aula_Scipy.ipynb\" target=\"_parent\"><img src=\"https://colab.research.google.com/assets/colab-badge.svg\" alt=\"Open In Colab\"/></a>"
      ]
    },
    {
      "cell_type": "markdown",
      "source": [
        "# Biblioteca Scipy\n",
        "\n",
        "Ferramenta para cálculo numérico, probabilidade e estatísca\n",
        "https://scipy.github.io/devdocs/index.html"
      ],
      "metadata": {
        "id": "fGkXm6EvgVbR"
      }
    },
    {
      "cell_type": "code",
      "source": [
        "import scipy.stats as ss\n",
        "import numpy as np"
      ],
      "metadata": {
        "id": "bvo2cchigZhL"
      },
      "execution_count": 3,
      "outputs": []
    },
    {
      "cell_type": "code",
      "source": [
        "# pdf: Função de Densidade\n",
        "\n",
        "x = np.arange(-1, 2, 0.01)\n",
        "y = ss.uniform.pdf(x)"
      ],
      "metadata": {
        "id": "LP1Mg7tji7Ly"
      },
      "execution_count": 4,
      "outputs": []
    },
    {
      "cell_type": "code",
      "source": [
        "x"
      ],
      "metadata": {
        "colab": {
          "base_uri": "https://localhost:8080/"
        },
        "id": "QXkQt5czjuck",
        "outputId": "d9c2f048-5a4b-4349-9590-1bc89b618aaa"
      },
      "execution_count": 5,
      "outputs": [
        {
          "output_type": "execute_result",
          "data": {
            "text/plain": [
              "array([-1.0000000e+00, -9.9000000e-01, -9.8000000e-01, -9.7000000e-01,\n",
              "       -9.6000000e-01, -9.5000000e-01, -9.4000000e-01, -9.3000000e-01,\n",
              "       -9.2000000e-01, -9.1000000e-01, -9.0000000e-01, -8.9000000e-01,\n",
              "       -8.8000000e-01, -8.7000000e-01, -8.6000000e-01, -8.5000000e-01,\n",
              "       -8.4000000e-01, -8.3000000e-01, -8.2000000e-01, -8.1000000e-01,\n",
              "       -8.0000000e-01, -7.9000000e-01, -7.8000000e-01, -7.7000000e-01,\n",
              "       -7.6000000e-01, -7.5000000e-01, -7.4000000e-01, -7.3000000e-01,\n",
              "       -7.2000000e-01, -7.1000000e-01, -7.0000000e-01, -6.9000000e-01,\n",
              "       -6.8000000e-01, -6.7000000e-01, -6.6000000e-01, -6.5000000e-01,\n",
              "       -6.4000000e-01, -6.3000000e-01, -6.2000000e-01, -6.1000000e-01,\n",
              "       -6.0000000e-01, -5.9000000e-01, -5.8000000e-01, -5.7000000e-01,\n",
              "       -5.6000000e-01, -5.5000000e-01, -5.4000000e-01, -5.3000000e-01,\n",
              "       -5.2000000e-01, -5.1000000e-01, -5.0000000e-01, -4.9000000e-01,\n",
              "       -4.8000000e-01, -4.7000000e-01, -4.6000000e-01, -4.5000000e-01,\n",
              "       -4.4000000e-01, -4.3000000e-01, -4.2000000e-01, -4.1000000e-01,\n",
              "       -4.0000000e-01, -3.9000000e-01, -3.8000000e-01, -3.7000000e-01,\n",
              "       -3.6000000e-01, -3.5000000e-01, -3.4000000e-01, -3.3000000e-01,\n",
              "       -3.2000000e-01, -3.1000000e-01, -3.0000000e-01, -2.9000000e-01,\n",
              "       -2.8000000e-01, -2.7000000e-01, -2.6000000e-01, -2.5000000e-01,\n",
              "       -2.4000000e-01, -2.3000000e-01, -2.2000000e-01, -2.1000000e-01,\n",
              "       -2.0000000e-01, -1.9000000e-01, -1.8000000e-01, -1.7000000e-01,\n",
              "       -1.6000000e-01, -1.5000000e-01, -1.4000000e-01, -1.3000000e-01,\n",
              "       -1.2000000e-01, -1.1000000e-01, -1.0000000e-01, -9.0000000e-02,\n",
              "       -8.0000000e-02, -7.0000000e-02, -6.0000000e-02, -5.0000000e-02,\n",
              "       -4.0000000e-02, -3.0000000e-02, -2.0000000e-02, -1.0000000e-02,\n",
              "        8.8817842e-16,  1.0000000e-02,  2.0000000e-02,  3.0000000e-02,\n",
              "        4.0000000e-02,  5.0000000e-02,  6.0000000e-02,  7.0000000e-02,\n",
              "        8.0000000e-02,  9.0000000e-02,  1.0000000e-01,  1.1000000e-01,\n",
              "        1.2000000e-01,  1.3000000e-01,  1.4000000e-01,  1.5000000e-01,\n",
              "        1.6000000e-01,  1.7000000e-01,  1.8000000e-01,  1.9000000e-01,\n",
              "        2.0000000e-01,  2.1000000e-01,  2.2000000e-01,  2.3000000e-01,\n",
              "        2.4000000e-01,  2.5000000e-01,  2.6000000e-01,  2.7000000e-01,\n",
              "        2.8000000e-01,  2.9000000e-01,  3.0000000e-01,  3.1000000e-01,\n",
              "        3.2000000e-01,  3.3000000e-01,  3.4000000e-01,  3.5000000e-01,\n",
              "        3.6000000e-01,  3.7000000e-01,  3.8000000e-01,  3.9000000e-01,\n",
              "        4.0000000e-01,  4.1000000e-01,  4.2000000e-01,  4.3000000e-01,\n",
              "        4.4000000e-01,  4.5000000e-01,  4.6000000e-01,  4.7000000e-01,\n",
              "        4.8000000e-01,  4.9000000e-01,  5.0000000e-01,  5.1000000e-01,\n",
              "        5.2000000e-01,  5.3000000e-01,  5.4000000e-01,  5.5000000e-01,\n",
              "        5.6000000e-01,  5.7000000e-01,  5.8000000e-01,  5.9000000e-01,\n",
              "        6.0000000e-01,  6.1000000e-01,  6.2000000e-01,  6.3000000e-01,\n",
              "        6.4000000e-01,  6.5000000e-01,  6.6000000e-01,  6.7000000e-01,\n",
              "        6.8000000e-01,  6.9000000e-01,  7.0000000e-01,  7.1000000e-01,\n",
              "        7.2000000e-01,  7.3000000e-01,  7.4000000e-01,  7.5000000e-01,\n",
              "        7.6000000e-01,  7.7000000e-01,  7.8000000e-01,  7.9000000e-01,\n",
              "        8.0000000e-01,  8.1000000e-01,  8.2000000e-01,  8.3000000e-01,\n",
              "        8.4000000e-01,  8.5000000e-01,  8.6000000e-01,  8.7000000e-01,\n",
              "        8.8000000e-01,  8.9000000e-01,  9.0000000e-01,  9.1000000e-01,\n",
              "        9.2000000e-01,  9.3000000e-01,  9.4000000e-01,  9.5000000e-01,\n",
              "        9.6000000e-01,  9.7000000e-01,  9.8000000e-01,  9.9000000e-01,\n",
              "        1.0000000e+00,  1.0100000e+00,  1.0200000e+00,  1.0300000e+00,\n",
              "        1.0400000e+00,  1.0500000e+00,  1.0600000e+00,  1.0700000e+00,\n",
              "        1.0800000e+00,  1.0900000e+00,  1.1000000e+00,  1.1100000e+00,\n",
              "        1.1200000e+00,  1.1300000e+00,  1.1400000e+00,  1.1500000e+00,\n",
              "        1.1600000e+00,  1.1700000e+00,  1.1800000e+00,  1.1900000e+00,\n",
              "        1.2000000e+00,  1.2100000e+00,  1.2200000e+00,  1.2300000e+00,\n",
              "        1.2400000e+00,  1.2500000e+00,  1.2600000e+00,  1.2700000e+00,\n",
              "        1.2800000e+00,  1.2900000e+00,  1.3000000e+00,  1.3100000e+00,\n",
              "        1.3200000e+00,  1.3300000e+00,  1.3400000e+00,  1.3500000e+00,\n",
              "        1.3600000e+00,  1.3700000e+00,  1.3800000e+00,  1.3900000e+00,\n",
              "        1.4000000e+00,  1.4100000e+00,  1.4200000e+00,  1.4300000e+00,\n",
              "        1.4400000e+00,  1.4500000e+00,  1.4600000e+00,  1.4700000e+00,\n",
              "        1.4800000e+00,  1.4900000e+00,  1.5000000e+00,  1.5100000e+00,\n",
              "        1.5200000e+00,  1.5300000e+00,  1.5400000e+00,  1.5500000e+00,\n",
              "        1.5600000e+00,  1.5700000e+00,  1.5800000e+00,  1.5900000e+00,\n",
              "        1.6000000e+00,  1.6100000e+00,  1.6200000e+00,  1.6300000e+00,\n",
              "        1.6400000e+00,  1.6500000e+00,  1.6600000e+00,  1.6700000e+00,\n",
              "        1.6800000e+00,  1.6900000e+00,  1.7000000e+00,  1.7100000e+00,\n",
              "        1.7200000e+00,  1.7300000e+00,  1.7400000e+00,  1.7500000e+00,\n",
              "        1.7600000e+00,  1.7700000e+00,  1.7800000e+00,  1.7900000e+00,\n",
              "        1.8000000e+00,  1.8100000e+00,  1.8200000e+00,  1.8300000e+00,\n",
              "        1.8400000e+00,  1.8500000e+00,  1.8600000e+00,  1.8700000e+00,\n",
              "        1.8800000e+00,  1.8900000e+00,  1.9000000e+00,  1.9100000e+00,\n",
              "        1.9200000e+00,  1.9300000e+00,  1.9400000e+00,  1.9500000e+00,\n",
              "        1.9600000e+00,  1.9700000e+00,  1.9800000e+00,  1.9900000e+00])"
            ]
          },
          "metadata": {},
          "execution_count": 5
        }
      ]
    },
    {
      "cell_type": "code",
      "source": [
        "y"
      ],
      "metadata": {
        "colab": {
          "base_uri": "https://localhost:8080/"
        },
        "id": "D9RjSkZojvx4",
        "outputId": "8e543218-1d05-47ab-a439-405c84ce19b0"
      },
      "execution_count": 6,
      "outputs": [
        {
          "output_type": "execute_result",
          "data": {
            "text/plain": [
              "array([0., 0., 0., 0., 0., 0., 0., 0., 0., 0., 0., 0., 0., 0., 0., 0., 0.,\n",
              "       0., 0., 0., 0., 0., 0., 0., 0., 0., 0., 0., 0., 0., 0., 0., 0., 0.,\n",
              "       0., 0., 0., 0., 0., 0., 0., 0., 0., 0., 0., 0., 0., 0., 0., 0., 0.,\n",
              "       0., 0., 0., 0., 0., 0., 0., 0., 0., 0., 0., 0., 0., 0., 0., 0., 0.,\n",
              "       0., 0., 0., 0., 0., 0., 0., 0., 0., 0., 0., 0., 0., 0., 0., 0., 0.,\n",
              "       0., 0., 0., 0., 0., 0., 0., 0., 0., 0., 0., 0., 0., 0., 0., 1., 1.,\n",
              "       1., 1., 1., 1., 1., 1., 1., 1., 1., 1., 1., 1., 1., 1., 1., 1., 1.,\n",
              "       1., 1., 1., 1., 1., 1., 1., 1., 1., 1., 1., 1., 1., 1., 1., 1., 1.,\n",
              "       1., 1., 1., 1., 1., 1., 1., 1., 1., 1., 1., 1., 1., 1., 1., 1., 1.,\n",
              "       1., 1., 1., 1., 1., 1., 1., 1., 1., 1., 1., 1., 1., 1., 1., 1., 1.,\n",
              "       1., 1., 1., 1., 1., 1., 1., 1., 1., 1., 1., 1., 1., 1., 1., 1., 1.,\n",
              "       1., 1., 1., 1., 1., 1., 1., 1., 1., 1., 1., 1., 1., 0., 0., 0., 0.,\n",
              "       0., 0., 0., 0., 0., 0., 0., 0., 0., 0., 0., 0., 0., 0., 0., 0., 0.,\n",
              "       0., 0., 0., 0., 0., 0., 0., 0., 0., 0., 0., 0., 0., 0., 0., 0., 0.,\n",
              "       0., 0., 0., 0., 0., 0., 0., 0., 0., 0., 0., 0., 0., 0., 0., 0., 0.,\n",
              "       0., 0., 0., 0., 0., 0., 0., 0., 0., 0., 0., 0., 0., 0., 0., 0., 0.,\n",
              "       0., 0., 0., 0., 0., 0., 0., 0., 0., 0., 0., 0., 0., 0., 0., 0., 0.,\n",
              "       0., 0., 0., 0., 0., 0., 0., 0., 0., 0., 0.])"
            ]
          },
          "metadata": {},
          "execution_count": 6
        }
      ]
    },
    {
      "cell_type": "code",
      "source": [
        "import matplotlib.pyplot as plt\n",
        "\n",
        "plt.plot(x,y)"
      ],
      "metadata": {
        "colab": {
          "base_uri": "https://localhost:8080/",
          "height": 282
        },
        "id": "mQh4F8Lrj1n3",
        "outputId": "6a51cf65-e34c-4862-d2df-d7e2727e59a1"
      },
      "execution_count": 11,
      "outputs": [
        {
          "output_type": "execute_result",
          "data": {
            "text/plain": [
              "[<matplotlib.lines.Line2D at 0x7fb9dbb70f10>]"
            ]
          },
          "metadata": {},
          "execution_count": 11
        },
        {
          "output_type": "display_data",
          "data": {
            "text/plain": [
              "<Figure size 432x288 with 1 Axes>"
            ],
            "image/png": "[encoded data removed]"
          },
          "metadata": {
            "needs_background": "light"
          }
        }
      ]
    },
    {
      "cell_type": "code",
      "source": [
        "x = np.arange(-1, 5, 0.01)\n",
        "y = ss.uniform.pdf(x, loc = 1, scale =2)"
      ],
      "metadata": {
        "id": "NO8E9hzwknEE"
      },
      "execution_count": 13,
      "outputs": []
    },
    {
      "cell_type": "code",
      "source": [
        "plt.plot(x,y)"
      ],
      "metadata": {
        "colab": {
          "base_uri": "https://localhost:8080/",
          "height": 282
        },
        "id": "FAnXXjF_ktIh",
        "outputId": "166caa3f-9043-45da-de7d-904285a5bcba"
      },
      "execution_count": 14,
      "outputs": [
        {
          "output_type": "execute_result",
          "data": {
            "text/plain": [
              "[<matplotlib.lines.Line2D at 0x7fb9db256890>]"
            ]
          },
          "metadata": {},
          "execution_count": 14
        },
        {
          "output_type": "display_data",
          "data": {
            "text/plain": [
              "<Figure size 432x288 with 1 Axes>"
            ],
            "image/png": "[encoded data removed]"
          },
          "metadata": {
            "needs_background": "light"
          }
        }
      ]
    },
    {
      "cell_type": "code",
      "source": [
        "x = np.arange(-5, 5, 0.01)\n",
        "y = ss.norm.pdf(x, loc = 0, scale =1)\n",
        "plt.plot(x,y)"
      ],
      "metadata": {
        "colab": {
          "base_uri": "https://localhost:8080/",
          "height": 282
        },
        "id": "wrTe8qjFlP0H",
        "outputId": "12920cc4-0a1f-48da-b6ce-28635065e24b"
      },
      "execution_count": 19,
      "outputs": [
        {
          "output_type": "execute_result",
          "data": {
            "text/plain": [
              "[<matplotlib.lines.Line2D at 0x7fb9db13b0d0>]"
            ]
          },
          "metadata": {},
          "execution_count": 19
        },
        {
          "output_type": "display_data",
          "data": {
            "text/plain": [
              "<Figure size 432x288 with 1 Axes>"
            ],
            "image/png": "[encoded data removed]"
          },
          "metadata": {
            "needs_background": "light"
          }
        }
      ]
    },
    {
      "cell_type": "code",
      "source": [
        "x = np.arange(-1, 5, 0.01)\n",
        "y = ss.expon.pdf(x, scale =1)\n",
        "plt.plot(x,y)"
      ],
      "metadata": {
        "colab": {
          "base_uri": "https://localhost:8080/",
          "height": 282
        },
        "id": "olnGY-oMmEso",
        "outputId": "3e0e535b-34f2-41bf-f993-777c5fa7fde5"
      },
      "execution_count": 22,
      "outputs": [
        {
          "output_type": "execute_result",
          "data": {
            "text/plain": [
              "[<matplotlib.lines.Line2D at 0x7fb9daffb550>]"
            ]
          },
          "metadata": {},
          "execution_count": 22
        },
        {
          "output_type": "display_data",
          "data": {
            "text/plain": [
              "<Figure size 432x288 with 1 Axes>"
            ],
            "image/png": "[encoded data removed]"
          },
          "metadata": {
            "needs_background": "light"
          }
        }
      ]
    },
    {
      "cell_type": "code",
      "source": [
        "# acumulada (cdf)\n",
        "\n",
        "# Probabilidade Acumulada de uma Normal Padrão Até 0 = 50%\n",
        "\n",
        "ss.norm.cdf(0)"
      ],
      "metadata": {
        "colab": {
          "base_uri": "https://localhost:8080/"
        },
        "id": "N5Aa-ezGmxS2",
        "outputId": "3ee74d94-324e-4433-c7e5-96b2b10f4b4e"
      },
      "execution_count": 23,
      "outputs": [
        {
          "output_type": "execute_result",
          "data": {
            "text/plain": [
              "0.5"
            ]
          },
          "metadata": {},
          "execution_count": 23
        }
      ]
    },
    {
      "cell_type": "code",
      "source": [
        "# quantis (ppf) -> Inversa da acumulada\n",
        "\n",
        "# Qual é o valor que tem como 50% de probabilidade?\n",
        "\n",
        "ss.norm.ppf(0.5)"
      ],
      "metadata": {
        "colab": {
          "base_uri": "https://localhost:8080/"
        },
        "id": "VHqBcPiXnYlf",
        "outputId": "7d0f11bc-d015-4d77-b8ff-49d0c05db209"
      },
      "execution_count": 24,
      "outputs": [
        {
          "output_type": "execute_result",
          "data": {
            "text/plain": [
              "0.0"
            ]
          },
          "metadata": {},
          "execution_count": 24
        }
      ]
    },
    {
      "cell_type": "code",
      "source": [
        "# Qual é o valor que tem como 99% de probabilidade?\n",
        "\n",
        "ss.norm.ppf(0.99)"
      ],
      "metadata": {
        "colab": {
          "base_uri": "https://localhost:8080/"
        },
        "id": "0Qg_0qV_n0vm",
        "outputId": "1a1aa54b-e9d0-4a9e-9fe7-1a1a5bad15ed"
      },
      "execution_count": 25,
      "outputs": [
        {
          "output_type": "execute_result",
          "data": {
            "text/plain": [
              "2.3263478740408408"
            ]
          },
          "metadata": {},
          "execution_count": 25
        }
      ]
    },
    {
      "cell_type": "code",
      "source": [
        "# numeros aleatórios (rvs)\n",
        "\n",
        "# Gerando 10000 valores aleatórios em uma distribuição normal padrão:\n",
        "\n",
        "x= ss.norm.rvs(size = 10000)"
      ],
      "metadata": {
        "id": "vlVDqAEUoBCa"
      },
      "execution_count": 31,
      "outputs": []
    },
    {
      "cell_type": "code",
      "source": [
        "plt.hist(x)"
      ],
      "metadata": {
        "colab": {
          "base_uri": "https://localhost:8080/",
          "height": 371
        },
        "id": "mRYh_4Z7o9Vj",
        "outputId": "3dee2450-03fe-438f-d7b5-cacd717de8ab"
      },
      "execution_count": 32,
      "outputs": [
        {
          "output_type": "execute_result",
          "data": {
            "text/plain": [
              "(array([  13.,   85.,  521., 1664., 2842., 2889., 1496.,  412.,   73.,\n",
              "           5.]),\n",
              " array([-3.88421438, -3.09827186, -2.31232934, -1.52638682, -0.7404443 ,\n",
              "         0.04549822,  0.83144074,  1.61738326,  2.40332578,  3.1892683 ,\n",
              "         3.97521082]),\n",
              " <a list of 10 Patch objects>)"
            ]
          },
          "metadata": {},
          "execution_count": 32
        },
        {
          "output_type": "display_data",
          "data": {
            "text/plain": [
              "<Figure size 432x288 with 1 Axes>"
            ],
            "image/png": "[encoded data removed]"
          },
          "metadata": {
            "needs_background": "light"
          }
        }
      ]
    },
    {
      "cell_type": "code",
      "source": [
        "plt.hist(x, edgecolor = 'white')"
      ],
      "metadata": {
        "colab": {
          "base_uri": "https://localhost:8080/",
          "height": 371
        },
        "id": "SXHIoN5qpIdu",
        "outputId": "c45eb738-4c9a-40e1-957d-64716c5d1c1b"
      },
      "execution_count": 33,
      "outputs": [
        {
          "output_type": "execute_result",
          "data": {
            "text/plain": [
              "(array([  13.,   85.,  521., 1664., 2842., 2889., 1496.,  412.,   73.,\n",
              "           5.]),\n",
              " array([-3.88421438, -3.09827186, -2.31232934, -1.52638682, -0.7404443 ,\n",
              "         0.04549822,  0.83144074,  1.61738326,  2.40332578,  3.1892683 ,\n",
              "         3.97521082]),\n",
              " <a list of 10 Patch objects>)"
            ]
          },
          "metadata": {},
          "execution_count": 33
        },
        {
          "output_type": "display_data",
          "data": {
            "text/plain": [
              "<Figure size 432x288 with 1 Axes>"
            ],
            "image/png": "[encoded data removed]"
          },
          "metadata": {
            "needs_background": "light"
          }
        }
      ]
    },
    {
      "cell_type": "code",
      "source": [
        "plt.hist(x, edgecolor = 'white', bins = 30)"
      ],
      "metadata": {
        "colab": {
          "base_uri": "https://localhost:8080/",
          "height": 491
        },
        "id": "tqBRi2XUpgAh",
        "outputId": "53487a3f-244b-4627-9aac-5ae11b36d4a9"
      },
      "execution_count": 34,
      "outputs": [
        {
          "output_type": "execute_result",
          "data": {
            "text/plain": [
              "(array([3.000e+00, 2.000e+00, 8.000e+00, 1.100e+01, 3.200e+01, 4.200e+01,\n",
              "        8.500e+01, 1.560e+02, 2.800e+02, 4.090e+02, 5.350e+02, 7.200e+02,\n",
              "        8.340e+02, 9.990e+02, 1.009e+03, 1.063e+03, 9.960e+02, 8.300e+02,\n",
              "        6.320e+02, 5.370e+02, 3.270e+02, 2.230e+02, 1.190e+02, 7.000e+01,\n",
              "        4.300e+01, 1.800e+01, 1.200e+01, 2.000e+00, 2.000e+00, 1.000e+00]),\n",
              " array([-3.88421438, -3.62223354, -3.3602527 , -3.09827186, -2.83629102,\n",
              "        -2.57431018, -2.31232934, -2.0503485 , -1.78836766, -1.52638682,\n",
              "        -1.26440598, -1.00242514, -0.7404443 , -0.47846346, -0.21648262,\n",
              "         0.04549822,  0.30747906,  0.5694599 ,  0.83144074,  1.09342158,\n",
              "         1.35540242,  1.61738326,  1.8793641 ,  2.14134494,  2.40332578,\n",
              "         2.66530662,  2.92728746,  3.1892683 ,  3.45124914,  3.71322998,\n",
              "         3.97521082]),\n",
              " <a list of 30 Patch objects>)"
            ]
          },
          "metadata": {},
          "execution_count": 34
        },
        {
          "output_type": "display_data",
          "data": {
            "text/plain": [
              "<Figure size 432x288 with 1 Axes>"
            ],
            "image/png": "[encoded data removed]"
          },
          "metadata": {
            "needs_background": "light"
          }
        }
      ]
    },
    {
      "cell_type": "code",
      "source": [
        "# Gerando 10000 valores aleatórios em uma distribuição uniforme:\n",
        "\n",
        "x= ss.uniform.rvs(size = 10000)\n",
        "plt.hist(x, edgecolor = 'white', bins = 30)"
      ],
      "metadata": {
        "colab": {
          "base_uri": "https://localhost:8080/",
          "height": 473
        },
        "id": "NUNf_M7TpwvE",
        "outputId": "67879e5d-61c6-4828-f0d3-963650e93bf8"
      },
      "execution_count": 35,
      "outputs": [
        {
          "output_type": "execute_result",
          "data": {
            "text/plain": [
              "(array([349., 349., 367., 369., 311., 336., 351., 329., 328., 293., 325.,\n",
              "        331., 314., 339., 353., 315., 332., 323., 333., 319., 347., 323.,\n",
              "        325., 330., 350., 315., 329., 323., 326., 366.]),\n",
              " array([5.86869033e-05, 3.33892885e-02, 6.67198901e-02, 1.00050492e-01,\n",
              "        1.33381093e-01, 1.66711695e-01, 2.00042296e-01, 2.33372898e-01,\n",
              "        2.66703500e-01, 3.00034101e-01, 3.33364703e-01, 3.66695304e-01,\n",
              "        4.00025906e-01, 4.33356507e-01, 4.66687109e-01, 5.00017711e-01,\n",
              "        5.33348312e-01, 5.66678914e-01, 6.00009515e-01, 6.33340117e-01,\n",
              "        6.66670719e-01, 7.00001320e-01, 7.33331922e-01, 7.66662523e-01,\n",
              "        7.99993125e-01, 8.33323727e-01, 8.66654328e-01, 8.99984930e-01,\n",
              "        9.33315531e-01, 9.66646133e-01, 9.99976734e-01]),\n",
              " <a list of 30 Patch objects>)"
            ]
          },
          "metadata": {},
          "execution_count": 35
        },
        {
          "output_type": "display_data",
          "data": {
            "text/plain": [
              "<Figure size 432x288 with 1 Axes>"
            ],
            "image/png": "[encoded data removed]"
          },
          "metadata": {
            "needs_background": "light"
          }
        }
      ]
    },
    {
      "cell_type": "code",
      "source": [
        "# Gerando 10000 valores aleatórios em uma distribuição exponencial:\n",
        "\n",
        "x= ss.expon.rvs(size = 10000)\n",
        "plt.hist(x, edgecolor = 'white', bins = 30)"
      ],
      "metadata": {
        "colab": {
          "base_uri": "https://localhost:8080/",
          "height": 508
        },
        "id": "7ufgQ-fuqIMG",
        "outputId": "3e7e3e42-cbb5-4087-a4e5-18ae6c91b065"
      },
      "execution_count": 36,
      "outputs": [
        {
          "output_type": "execute_result",
          "data": {
            "text/plain": [
              "(array([3.733e+03, 2.375e+03, 1.410e+03, 9.200e+02, 5.740e+02, 3.630e+02,\n",
              "        2.190e+02, 1.510e+02, 9.500e+01, 6.000e+01, 4.400e+01, 1.900e+01,\n",
              "        1.400e+01, 7.000e+00, 2.000e+00, 6.000e+00, 1.000e+00, 3.000e+00,\n",
              "        1.000e+00, 0.000e+00, 1.000e+00, 0.000e+00, 1.000e+00, 0.000e+00,\n",
              "        0.000e+00, 0.000e+00, 0.000e+00, 0.000e+00, 0.000e+00, 1.000e+00]),\n",
              " array([4.63337505e-05, 4.55917652e-01, 9.11788970e-01, 1.36766029e+00,\n",
              "        1.82353161e+00, 2.27940293e+00, 2.73527424e+00, 3.19114556e+00,\n",
              "        3.64701688e+00, 4.10288820e+00, 4.55875952e+00, 5.01463084e+00,\n",
              "        5.47050215e+00, 5.92637347e+00, 6.38224479e+00, 6.83811611e+00,\n",
              "        7.29398743e+00, 7.74985875e+00, 8.20573006e+00, 8.66160138e+00,\n",
              "        9.11747270e+00, 9.57334402e+00, 1.00292153e+01, 1.04850867e+01,\n",
              "        1.09409580e+01, 1.13968293e+01, 1.18527006e+01, 1.23085719e+01,\n",
              "        1.27644432e+01, 1.32203146e+01, 1.36761859e+01]),\n",
              " <a list of 30 Patch objects>)"
            ]
          },
          "metadata": {},
          "execution_count": 36
        },
        {
          "output_type": "display_data",
          "data": {
            "text/plain": [
              "<Figure size 432x288 with 1 Axes>"
            ],
            "image/png": "[encoded data removed]"
          },
          "metadata": {
            "needs_background": "light"
          }
        }
      ]
    },
    {
      "cell_type": "code",
      "source": [
        "u = ss.uniform.rvs(size = 1)\n",
        "if u < 0.30:\n",
        "  print('Roda aqui aleatoriamente com probalilidade 30%')\n",
        "else: \n",
        "  print('Roda aqui aleatoriamente com probalilidade 70%')"
      ],
      "metadata": {
        "colab": {
          "base_uri": "https://localhost:8080/"
        },
        "id": "5lpOZQ4kqj-G",
        "outputId": "32db085c-6fc2-4a77-c221-87a2157a0985"
      },
      "execution_count": 39,
      "outputs": [
        {
          "output_type": "stream",
          "name": "stdout",
          "text": [
            "Roda aqui aleatoriamente com probalilidade 70%\n"
          ]
        }
      ]
    },
    {
      "cell_type": "code",
      "source": [
        "# estatisticas (stats)\n",
        "\n",
        "# media e variância de uma determinada distribuição:\n",
        "\n",
        "ss.uniform.stats()"
      ],
      "metadata": {
        "colab": {
          "base_uri": "https://localhost:8080/"
        },
        "id": "2zbRKoM2rRcC",
        "outputId": "c67b773a-ae7e-4e6b-f06c-9d54b5825ab7"
      },
      "execution_count": 40,
      "outputs": [
        {
          "output_type": "execute_result",
          "data": {
            "text/plain": [
              "(array(0.5), array(0.08333333))"
            ]
          },
          "metadata": {},
          "execution_count": 40
        }
      ]
    },
    {
      "cell_type": "markdown",
      "source": [
        "# Exercício Proposto\n",
        "\n",
        "Faça um programa que gere 30 amostras aleatórias da distribuição exponencial. Para cada uma dessas amostras, calcule sua média e guarde. repita o procedimento 1000 vezes e faça um histograma dos valores obtidos. O que você vê nesse gráfico? Repita tudo alternando para uma distribuição uniforme e normal. O que você vê nos gráficos? O que há comum entre as abordagens?"
      ],
      "metadata": {
        "id": "auB_QeghNsXw"
      }
    },
    {
      "cell_type": "code",
      "source": [
        "# Análise Exercício Proposto - Distribuição Exponencial\n",
        "\n",
        "import scipy.stats as ss\n",
        "import numpy as np\n",
        "import matplotlib.pyplot as plt\n",
        "\n",
        "reps = 1000\n",
        "\n",
        "resultados = []\n",
        "for i in range(reps):\n",
        "  x= ss.expon.rvs(size = 30)\n",
        "  resultados.append(x.mean())\n",
        "\n",
        "plt.hist(resultados, edgecolor = 'white', bins = 15)"
      ],
      "metadata": {
        "colab": {
          "base_uri": "https://localhost:8080/",
          "height": 387
        },
        "id": "O9ToU_wCOWwI",
        "outputId": "c22f22bd-6740-4efe-af96-2745a9ea3b21"
      },
      "execution_count": 10,
      "outputs": [
        {
          "output_type": "execute_result",
          "data": {
            "text/plain": [
              "(array([ 11.,  27.,  64.,  85., 163., 170., 150., 117.,  99.,  60.,  21.,\n",
              "         19.,  10.,   3.,   1.]),\n",
              " array([0.54579983, 0.6209549 , 0.69610997, 0.77126505, 0.84642012,\n",
              "        0.92157519, 0.99673027, 1.07188534, 1.14704041, 1.22219548,\n",
              "        1.29735056, 1.37250563, 1.4476607 , 1.52281578, 1.59797085,\n",
              "        1.67312592]),\n",
              " <a list of 15 Patch objects>)"
            ]
          },
          "metadata": {},
          "execution_count": 10
        },
        {
          "output_type": "display_data",
          "data": {
            "text/plain": [
              "<Figure size 432x288 with 1 Axes>"
            ],
            "image/png": "[encoded data removed]"
          },
          "metadata": {
            "needs_background": "light"
          }
        }
      ]
    },
    {
      "cell_type": "code",
      "source": [
        "# Análise Exercício Proposto - Distribuição Uniforme\n",
        "\n",
        "import scipy.stats as ss\n",
        "import numpy as np\n",
        "import matplotlib.pyplot as plt\n",
        "\n",
        "reps = 1000\n",
        "\n",
        "resultados = []\n",
        "for i in range(reps):\n",
        "  x= ss.uniform.rvs(size = 30)\n",
        "  resultados.append(x.mean())\n",
        "\n",
        "plt.hist(resultados, edgecolor = 'white', bins = 15)"
      ],
      "metadata": {
        "colab": {
          "base_uri": "https://localhost:8080/",
          "height": 387
        },
        "id": "9geRDMpmSiUY",
        "outputId": "9551a912-c25d-4001-9e49-2f1f4cfa5e1c"
      },
      "execution_count": 11,
      "outputs": [
        {
          "output_type": "execute_result",
          "data": {
            "text/plain": [
              "(array([  2.,   3.,   4.,  19.,  48.,  76., 143., 184., 176., 151., 102.,\n",
              "         48.,  34.,   7.,   3.]),\n",
              " array([0.30976621, 0.33336734, 0.35696848, 0.38056961, 0.40417075,\n",
              "        0.42777188, 0.45137302, 0.47497415, 0.49857529, 0.52217643,\n",
              "        0.54577756, 0.5693787 , 0.59297983, 0.61658097, 0.6401821 ,\n",
              "        0.66378324]),\n",
              " <a list of 15 Patch objects>)"
            ]
          },
          "metadata": {},
          "execution_count": 11
        },
        {
          "output_type": "display_data",
          "data": {
            "text/plain": [
              "<Figure size 432x288 with 1 Axes>"
            ],
            "image/png": "[encoded data removed]"
          },
          "metadata": {
            "needs_background": "light"
          }
        }
      ]
    },
    {
      "cell_type": "code",
      "source": [
        "# Análise Exercício Proposto - Distribuição Normal\n",
        "\n",
        "import scipy.stats as ss\n",
        "import numpy as np\n",
        "import matplotlib.pyplot as plt\n",
        "\n",
        "reps = 1000\n",
        "\n",
        "resultados = []\n",
        "for i in range(reps):\n",
        "  x= ss.norm.rvs(size = 30)\n",
        "  resultados.append(x.mean())\n",
        "\n",
        "plt.hist(resultados, edgecolor = 'white', bins = 15)"
      ],
      "metadata": {
        "colab": {
          "base_uri": "https://localhost:8080/",
          "height": 387
        },
        "id": "axieKDd_SttZ",
        "outputId": "0e67596d-ecf1-4c68-dea3-36e19a339a5b"
      },
      "execution_count": 12,
      "outputs": [
        {
          "output_type": "execute_result",
          "data": {
            "text/plain": [
              "(array([  1.,  10.,  24.,  42.,  89., 122., 174., 186., 151.,  97.,  54.,\n",
              "         40.,   6.,   3.,   1.]),\n",
              " array([-0.58774815, -0.50534713, -0.42294611, -0.34054509, -0.25814407,\n",
              "        -0.17574305, -0.09334203, -0.01094101,  0.07146001,  0.15386104,\n",
              "         0.23626206,  0.31866308,  0.4010641 ,  0.48346512,  0.56586614,\n",
              "         0.64826716]),\n",
              " <a list of 15 Patch objects>)"
            ]
          },
          "metadata": {},
          "execution_count": 12
        },
        {
          "output_type": "display_data",
          "data": {
            "text/plain": [
              "<Figure size 432x288 with 1 Axes>"
            ],
            "image/png": "[encoded data removed]"
          },
          "metadata": {
            "needs_background": "light"
          }
        }
      ]
    },
    {
      "cell_type": "code",
      "source": [
        ""
      ],
      "metadata": {
        "id": "ZJAsThH0QMTZ"
      },
      "execution_count": null,
      "outputs": []
    }
  ]
}